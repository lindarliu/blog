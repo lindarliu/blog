{
 "cells": [
  {
   "cell_type": "markdown",
   "metadata": {},
   "source": [
    "# Time Series Analysis & Modeling\n",
    "data used: [Chinese Monthly temperature data (1833-2013)](http://berkeleyearth.lbl.gov/auto/Regional/TAVG/Text/china-TAVG-Trend.txt)"
   ]
  },
  {
   "cell_type": "code",
   "execution_count": 4,
   "metadata": {
    "collapsed": true
   },
   "outputs": [],
   "source": [
    "import pandas as pd\n",
    "import matplotlib.pyplot as plt\n",
    "%matplotlib inline\n",
    "import numpy as np\n",
    "from sklearn.preprocessing import PolynomialFeatures\n",
    "from sklearn import linear_model\n",
    "import matplotlib.pylab as plt\n",
    "%matplotlib inline\n",
    "from matplotlib.pylab import rcParams\n",
    "import statsmodels.api as sm\n",
    "import statsmodels.formula.api as smf\n",
    "import statsmodels.tsa.api as smt\n",
    "import seaborn as sns"
   ]
  },
  {
   "cell_type": "markdown",
   "metadata": {},
   "source": [
    "## Table of Contents\n",
    " **1. Helpful links and my motivation**  \n",
    " **2. Why time series analysis**  \n",
    " **3. What kind of data is suitable for time series analysis **  \n",
    " **4. Math **  \n",
    " **5. Example**  "
   ]
  },
  {
   "cell_type": "markdown",
   "metadata": {},
   "source": [
    "## Helpful Link & my motivation\n",
    "\n",
    "If you already knew time series and want to learn how to apply those techniques in python, here is couple links that help me get started. \n",
    "* [youtube video on ARIMA](https://www.youtube.com/watch?v=tJ-O3hk1vRw)\n",
    "* [A complete guide to time series analysis in python](https://www.analyticsvidhya.com/blog/2016/02/time-series-forecasting-codes-python/)\n",
    "* [A complete guide to time series analysis in python 1(nicer formatting)](https://www.digitalocean.com/community/tutorials/a-guide-to-time-series-forecasting-with-arima-in-python-3)\n",
    "* [A complete guide to time series analysis in python 2(nicer formatting)](http://www.seanabu.com/2016/03/22/time-series-seasonal-ARIMA-model-in-python/)\n",
    "\n",
    "Those blog already did great jobs on presenting complete analysis on complicate time series. The main reason I started thinking about writing a blog about time series is that recently I had a EPIC FAIL during one of technical interviews.\n",
    "\n",
    "<img src=\"https://media.giphy.com/media/KGTTNpVuGVhN6/giphy.gif\">\n",
    "\n",
    "My motivations for this blog are:\n",
    "* Refresh my memory on time series\n",
    "* Present models step by step from the most rudimentary models to complicate ones\n",
    "\n"
   ]
  },
  {
   "cell_type": "markdown",
   "metadata": {},
   "source": [
    "## Why do we use time series analysis?\n",
    "\n",
    "The most important characteristic of time series analysis, in my opinion, is the order of the data. Order matters. If a series of temporal data is given - *1,2,3*, I will ask the question what is the relationship between 1 at $t_0$ and 3 at $t_h$, where h can be 0,1,...n.\n",
    "\n",
    "Through exploring the temporal relationship among data, we turn a dimensionless problem to a dimentional problem. How? \n",
    "\n",
    "* Assume data 1,2,3 didn't happen in a time order. How do we estimate the next most likely happened number? Mean, median, mode, and probably construct probability distribution. But we can't run a regression method (require at least 1 dimension feature space).  \n",
    "* However, if the data is temporal and they are collected at $t_0$, $t_1$,... and $t_n$. We can make hypothesis about value at $t_i$ is linearly correlated with value at $t_{i-2}$. Putting that hypothesis down as math equation, it would be $$x_t =\\epsilon_t +\\alpha*x_{t-2}$$ and now the problem turns into a 1-d regression problem\n",
    "* If you agree with the logic above - the problem is a 1d problem, can you picture it being a p-dimention problem ($p<n$)? $$x_t = \\epsilon_t+\\sum^p_1{\\alpha_i*x_{t-i}}$$ This is a type of time series model called autoregressive model, **AR(p)**, and we will cover it later. \n",
    "\n",
    "The two euqations above share an important trait - **we are using data from the PAST to forecast/estimate the FUTURE.** \n",
    "\n",
    "From [this blog post](http://userwww.sfsu.edu/efc/classes/biol710/timeseries/timeseries1.htm), we see other goals we can achieve by analyzing time series\n",
    "<img src=\"image/goal_ts.png\" alt=\"Goal of TS analysis\" style=\"width: 80%\"/>\n"
   ]
  },
  {
   "cell_type": "markdown",
   "metadata": {},
   "source": [
    "## What kind of data is suitable for time series analysis\n",
    "\n",
    "We are trying to extract meaningful statistic out of temporal data. However, if a temporal data is completely random - no systematic pattern in relation to time, then we cannot find insight. \n",
    "\n",
    "### what kind of data do we use here\n",
    "\n",
    "**The time series we are concerned will have patterns and noises.** We are going to damp the noises and recognize the patterns. The data we are concerned are all [stationary](https://en.wikipedia.org/wiki/Stationary_process) (weakly stationary).\n",
    "\n",
    "*If you understand what stationary means, keep reading; otherwise, you can skip this!*\n",
    "* The assumption behind stationary process is very strong: it requires identical joint probaility distributions when shifted in time. In practice, it's hard to meet such requirement.\n",
    "* So someone invented the notion of weakly stationary: the time series $x_i, i =1,2,3,...t$ has to be\n",
    "    * constant mean and variance (finite) across time \n",
    "    * constant autocorrvariance s.t. $cov(x_1,x_2) = cov(x_{1+h},x_{2+h})$  \n",
    "\n"
   ]
  },
  {
   "cell_type": "code",
   "execution_count": null,
   "metadata": {
    "collapsed": true
   },
   "outputs": [],
   "source": []
  }
 ],
 "metadata": {
  "anaconda-cloud": {},
  "kernelspec": {
   "display_name": "Python [default]",
   "language": "python",
   "name": "python2"
  },
  "language_info": {
   "codemirror_mode": {
    "name": "ipython",
    "version": 2
   },
   "file_extension": ".py",
   "mimetype": "text/x-python",
   "name": "python",
   "nbconvert_exporter": "python",
   "pygments_lexer": "ipython2",
   "version": "2.7.12"
  }
 },
 "nbformat": 4,
 "nbformat_minor": 1
}
