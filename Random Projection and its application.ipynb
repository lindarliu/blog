{
 "cells": [
  {
   "cell_type": "code",
   "execution_count": 9,
   "metadata": {
    "collapsed": false
   },
   "outputs": [
    {
     "data": {
      "text/html": [
       "\n",
       "    <div class=\"bk-root\">\n",
       "        <a href=\"http://bokeh.pydata.org\" target=\"_blank\" class=\"bk-logo bk-logo-small bk-logo-notebook\"></a>\n",
       "        <span id=\"8a778317-7654-476a-96af-afb6f61a0309\">Loading BokehJS ...</span>\n",
       "    </div>"
      ]
     },
     "metadata": {},
     "output_type": "display_data"
    },
    {
     "data": {
      "application/javascript": [
       "\n",
       "(function(global) {\n",
       "  function now() {\n",
       "    return new Date();\n",
       "  }\n",
       "\n",
       "  var force = \"1\";\n",
       "\n",
       "  if (typeof (window._bokeh_onload_callbacks) === \"undefined\" || force !== \"\") {\n",
       "    window._bokeh_onload_callbacks = [];\n",
       "    window._bokeh_is_loading = undefined;\n",
       "  }\n",
       "\n",
       "\n",
       "  \n",
       "  if (typeof (window._bokeh_timeout) === \"undefined\" || force !== \"\") {\n",
       "    window._bokeh_timeout = Date.now() + 5000;\n",
       "    window._bokeh_failed_load = false;\n",
       "  }\n",
       "\n",
       "  var NB_LOAD_WARNING = {'data': {'text/html':\n",
       "     \"<div style='background-color: #fdd'>\\n\"+\n",
       "     \"<p>\\n\"+\n",
       "     \"BokehJS does not appear to have successfully loaded. If loading BokehJS from CDN, this \\n\"+\n",
       "     \"may be due to a slow or bad network connection. Possible fixes:\\n\"+\n",
       "     \"</p>\\n\"+\n",
       "     \"<ul>\\n\"+\n",
       "     \"<li>re-rerun `output_notebook()` to attempt to load from CDN again, or</li>\\n\"+\n",
       "     \"<li>use INLINE resources instead, as so:</li>\\n\"+\n",
       "     \"</ul>\\n\"+\n",
       "     \"<code>\\n\"+\n",
       "     \"from bokeh.resources import INLINE\\n\"+\n",
       "     \"output_notebook(resources=INLINE)\\n\"+\n",
       "     \"</code>\\n\"+\n",
       "     \"</div>\"}};\n",
       "\n",
       "  function display_loaded() {\n",
       "    if (window.Bokeh !== undefined) {\n",
       "      Bokeh.$(\"#8a778317-7654-476a-96af-afb6f61a0309\").text(\"BokehJS successfully loaded.\");\n",
       "    } else if (Date.now() < window._bokeh_timeout) {\n",
       "      setTimeout(display_loaded, 100)\n",
       "    }\n",
       "  }\n",
       "\n",
       "  function run_callbacks() {\n",
       "    window._bokeh_onload_callbacks.forEach(function(callback) { callback() });\n",
       "    delete window._bokeh_onload_callbacks\n",
       "    console.info(\"Bokeh: all callbacks have finished\");\n",
       "  }\n",
       "\n",
       "  function load_libs(js_urls, callback) {\n",
       "    window._bokeh_onload_callbacks.push(callback);\n",
       "    if (window._bokeh_is_loading > 0) {\n",
       "      console.log(\"Bokeh: BokehJS is being loaded, scheduling callback at\", now());\n",
       "      return null;\n",
       "    }\n",
       "    if (js_urls == null || js_urls.length === 0) {\n",
       "      run_callbacks();\n",
       "      return null;\n",
       "    }\n",
       "    console.log(\"Bokeh: BokehJS not loaded, scheduling load and callback at\", now());\n",
       "    window._bokeh_is_loading = js_urls.length;\n",
       "    for (var i = 0; i < js_urls.length; i++) {\n",
       "      var url = js_urls[i];\n",
       "      var s = document.createElement('script');\n",
       "      s.src = url;\n",
       "      s.async = false;\n",
       "      s.onreadystatechange = s.onload = function() {\n",
       "        window._bokeh_is_loading--;\n",
       "        if (window._bokeh_is_loading === 0) {\n",
       "          console.log(\"Bokeh: all BokehJS libraries loaded\");\n",
       "          run_callbacks()\n",
       "        }\n",
       "      };\n",
       "      s.onerror = function() {\n",
       "        console.warn(\"failed to load library \" + url);\n",
       "      };\n",
       "      console.log(\"Bokeh: injecting script tag for BokehJS library: \", url);\n",
       "      document.getElementsByTagName(\"head\")[0].appendChild(s);\n",
       "    }\n",
       "  };var element = document.getElementById(\"8a778317-7654-476a-96af-afb6f61a0309\");\n",
       "  if (element == null) {\n",
       "    console.log(\"Bokeh: ERROR: autoload.js configured with elementid '8a778317-7654-476a-96af-afb6f61a0309' but no matching script tag was found. \")\n",
       "    return false;\n",
       "  }\n",
       "\n",
       "  var js_urls = ['https://cdn.pydata.org/bokeh/release/bokeh-0.12.2.min.js', 'https://cdn.pydata.org/bokeh/release/bokeh-widgets-0.12.2.min.js', 'https://cdn.pydata.org/bokeh/release/bokeh-compiler-0.12.2.min.js'];\n",
       "\n",
       "  var inline_js = [\n",
       "    function(Bokeh) {\n",
       "      Bokeh.set_log_level(\"info\");\n",
       "    },\n",
       "    \n",
       "    function(Bokeh) {\n",
       "      \n",
       "      Bokeh.$(\"#8a778317-7654-476a-96af-afb6f61a0309\").text(\"BokehJS is loading...\");\n",
       "    },\n",
       "    function(Bokeh) {\n",
       "      console.log(\"Bokeh: injecting CSS: https://cdn.pydata.org/bokeh/release/bokeh-0.12.2.min.css\");\n",
       "      Bokeh.embed.inject_css(\"https://cdn.pydata.org/bokeh/release/bokeh-0.12.2.min.css\");\n",
       "      console.log(\"Bokeh: injecting CSS: https://cdn.pydata.org/bokeh/release/bokeh-widgets-0.12.2.min.css\");\n",
       "      Bokeh.embed.inject_css(\"https://cdn.pydata.org/bokeh/release/bokeh-widgets-0.12.2.min.css\");\n",
       "    }\n",
       "  ];\n",
       "\n",
       "  function run_inline_js() {\n",
       "    \n",
       "    if ((window.Bokeh !== undefined) || (force === \"1\")) {\n",
       "      for (var i = 0; i < inline_js.length; i++) {\n",
       "        inline_js[i](window.Bokeh);\n",
       "      }if (force === \"1\") {\n",
       "        display_loaded();\n",
       "      }} else if (Date.now() < window._bokeh_timeout) {\n",
       "      setTimeout(run_inline_js, 100);\n",
       "    } else if (!window._bokeh_failed_load) {\n",
       "      console.log(\"Bokeh: BokehJS failed to load within specified timeout.\");\n",
       "      window._bokeh_failed_load = true;\n",
       "    } else if (!force) {\n",
       "      var cell = $(\"#8a778317-7654-476a-96af-afb6f61a0309\").parents('.cell').data().cell;\n",
       "      cell.output_area.append_execute_result(NB_LOAD_WARNING)\n",
       "    }\n",
       "\n",
       "  }\n",
       "\n",
       "  if (window._bokeh_is_loading === 0) {\n",
       "    console.log(\"Bokeh: BokehJS loaded, going straight to plotting\");\n",
       "    run_inline_js();\n",
       "  } else {\n",
       "    load_libs(js_urls, function() {\n",
       "      console.log(\"Bokeh: BokehJS plotting callback run at\", now());\n",
       "      run_inline_js();\n",
       "    });\n",
       "  }\n",
       "}(this));"
      ]
     },
     "metadata": {},
     "output_type": "display_data"
    }
   ],
   "source": [
    "from sklearn import random_projection\n",
    "from sklearn.mixture import GaussianMixture\n",
    "from sklearn import cluster, datasets\n",
    "import pandas as pd\n",
    "import numpy as np\n",
    "from sklearn.metrics import accuracy_score\n",
    "import seaborn as sns\n",
    "import matplotlib.pyplot as plt\n",
    "from sklearn.neighbors import kneighbors_graph\n",
    "from sklearn.neighbors import KNeighborsClassifier\n",
    "from sklearn.decomposition import PCA as pca\n",
    "import time\n",
    "%matplotlib inline\n",
    "import bokeh.plotting as bp\n",
    "from sklearn.manifold import TSNE\n",
    "from bokeh.models import HoverTool\n",
    "from bokeh.io import output_notebook\n",
    "from collections import Counter\n",
    "from sklearn.cluster import KMeans\n",
    "output_notebook()"
   ]
  },
  {
   "cell_type": "code",
   "execution_count": 2,
   "metadata": {
    "collapsed": true
   },
   "outputs": [],
   "source": [
    "plt.rc(\"figure\", figsize=(9, 4))"
   ]
  },
  {
   "cell_type": "markdown",
   "metadata": {},
   "source": [
    "## Motivation"
   ]
  },
  {
   "cell_type": "markdown",
   "metadata": {},
   "source": [
    "Random projection (RP) is a commonly used dimensionality reduction technique. As a relatively young technique that was invented around 1980, RP gains a lot of tractions becuase it doesn't require a lot of computational power and it has beend shown to have some promises for various applications such as high dimensional clustering, image and text data dimension reductions(Fern & Brodley, 2003; Bingham & Mannila, 2001). In this post, we are going explore RP's mathematical meaning, as well as some implementations of RP using python.\n"
   ]
  },
  {
   "cell_type": "markdown",
   "metadata": {},
   "source": [
    "## Where & How\n",
    "\n",
    "RP comes from a famous lemma called the Johnson-Lindenstrauss lemma. Based on the Johnson-Lindenstrauss lemma, one can project a high-dimensional data onto a lower dimensional subspace using a random matrix because the distances between points are approximately preserved. When putting into mathematical prospective, the original matrix D is projected onto P using a random matrix R.   \n",
    "\n",
    "$$P = R \\times D$$\n",
    "\n",
    "The basic dimension is shown as below,  \n",
    "  \n",
    "$$ \\left[\\begin{array}\n",
    "{rrr}\n",
    " &  &  \\\\\n",
    " & Projected &  \\\\\n",
    " &  & \n",
    "\\end{array}\\right]_{k \\times n} = \\left[\\begin{array}\n",
    "{rrr}\n",
    " &  &  \\\\\n",
    " & Random &  \\\\\n",
    " &  & \n",
    "\\end{array}\\right]_{k \\times d}\\left[\\begin{array}\n",
    "{rrr}\n",
    " &  &  \\\\\n",
    " & Original &  \\\\\n",
    " &  & \n",
    "\\end{array}\\right]_{d \\times n}\n",
    "$$  \n",
    "\n",
    "where k << d. Each entry of the random matrix R is sampled from an standard normal distribution and is normalized by the columns to a unit length. A way to think about each column of R is as random \"weights\" to decompose D. \n",
    "\n",
    "Achlioptas (Achlioptas, 2001) provides another method to fill in values for R that theoratically meets the requirment for the Johnson-Lindenstrauss lemma:  \n",
    "\n",
    "$$r_ij = \\sqrt3 \\Bigg\\{\\begin{array}\n",
    "{rrr}\n",
    " +1&  & probability = \\frac{1}{6} \\\\\n",
    " 0& & probability = \\frac{2}{3} \\\\\n",
    " -1 &  & probability = \\frac{1}{6}\n",
    "\\end{array}\n",
    "$$\n",
    "\n",
    ", where we called R a **sparse** matrix. Achlioptas's finding help further computational saving with easier-to-simulate matrix. Below, we will compare the two methods of populating R and see if Achlioptas's finding can be used in practice. "
   ]
  },
  {
   "cell_type": "markdown",
   "metadata": {},
   "source": [
    "## Why\n",
    "\n",
    "Why do we want to use RP and what is its limitations compared to the widely known dimension reduction method, PCA? \n",
    "\n",
    "The dataset we are going to explore is [CHART](https://archive.ics.uci.edu/ml/datasets/Synthetic+Control+Chart+Time+Series). CHART contains 600 examples of control charts synthetically generated by the process in Alcock and Manolopoulos (1999). There are six different classes of control charts: \n",
    "\n",
    "    A. Normal \n",
    "    B. Cyclic \n",
    "    C. Increasing trend \n",
    "    D. Decreasing trend \n",
    "    E. Upward shift \n",
    "    F. Downward shift \n",
    "\n",
    "Here is a image provided by UCI showing the different classes in picture.\n",
    "<img src=\"image/chart_class.jpeg\" alt=\"term-document matrix\" style=\"width: 80%\"/>"
   ]
  },
  {
   "cell_type": "code",
   "execution_count": 4,
   "metadata": {
    "collapsed": false
   },
   "outputs": [
    {
     "name": "stdout",
     "output_type": "stream",
     "text": [
      "(600, 60)\n"
     ]
    }
   ],
   "source": [
    "df = pd.read_table('synthetic_control_data.txt',sep='\\s+',header=None)\n",
    "print df.shape"
   ]
  },
  {
   "cell_type": "code",
   "execution_count": 6,
   "metadata": {
    "collapsed": false
   },
   "outputs": [],
   "source": [
    "def RP(component):\n",
    "    RP = random_projection.SparseRandomProjection(n_components=component)\n",
    "    return RP\n",
    "\n",
    "def PCA(component):\n",
    "    p = pca(n_components=component)\n",
    "    return p\n",
    "\n",
    "\n",
    "## define KNN to have 6 neighbors\n",
    "neigh = KNeighborsClassifier(n_neighbors=6)"
   ]
  },
  {
   "cell_type": "code",
   "execution_count": 77,
   "metadata": {
    "collapsed": false
   },
   "outputs": [],
   "source": [
    "components = range(1,15,1) \n",
    "names = ['rp','pca']\n",
    "name2func = {'rp':'RP','pca':'PCA'}\n",
    "summary = pd.DataFrame(index=pd.MultiIndex.from_product([['RP','PCA'],components ],\n",
    "                                                        names=['method','n_component']),\n",
    "             columns=['Time','Accuracy'])\n",
    "\n",
    "for name in names: # use both random projection and PCA\n",
    "    for component in components:# reduce dimension to number within 1 to 15\n",
    "\n",
    "        fcn = name2func[name]\n",
    "        ## measure run time\n",
    "        start_time = time.time()\n",
    "        df_ = pd.DataFrame(locals()[fcn](component).fit_transform(df))\n",
    "        summary.loc[(fcn,component),'Time'] =time.time() - start_time \n",
    "        \n",
    "        ## measure accuracy \n",
    "        df_['y_true'] = np.array(sum([[i]*100 for i in range(6)],[]))\n",
    "        neigh = KNeighborsClassifier(n_neighbors=6)\n",
    "        neigh.fit(df_.iloc[:,:-1],df_.iloc[:,-1]) \n",
    "        df_['y_pred'] = neigh.predict(df_.iloc[:,:-1])\n",
    "        summary.loc[(fcn,component),'Accuracy'] = accuracy_score(df_.y_true,df_.y_pred)\n",
    "\n"
   ]
  },
  {
   "cell_type": "markdown",
   "metadata": {},
   "source": [
    "#### Time"
   ]
  },
  {
   "cell_type": "code",
   "execution_count": 76,
   "metadata": {
    "collapsed": false
   },
   "outputs": [
    {
     "data": {
      "text/plain": [
       "method\n",
       "PCA    Axes(0.125,0.125;0.775x0.755)\n",
       "RP     Axes(0.125,0.125;0.775x0.755)\n",
       "Name: Time, dtype: object"
      ]
     },
     "execution_count": 76,
     "metadata": {},
     "output_type": "execute_result"
    },
    {
     "data": {
      "image/png": "[encoded data removed]",
      "text/plain": [
       "<matplotlib.figure.Figure at 0x11cfb0190>"
      ]
     },
     "metadata": {},
     "output_type": "display_data"
    }
   ],
   "source": [
    "summary.groupby(level='method').Time.plot(legend=True)\n"
   ]
  },
  {
   "cell_type": "markdown",
   "metadata": {},
   "source": [
    "When we reduce dimension from 60 to a smaller number, random projection is always faster. Especially when we reduce dimension to 1, random projection is about four times faster than PCA.\n"
   ]
  },
  {
   "cell_type": "markdown",
   "metadata": {},
   "source": [
    "#### Accuracy"
   ]
  },
  {
   "cell_type": "code",
   "execution_count": 66,
   "metadata": {
    "collapsed": false
   },
   "outputs": [
    {
     "data": {
      "text/plain": [
       "method\n",
       "PCA    Axes(0.125,0.125;0.775x0.755)\n",
       "RP     Axes(0.125,0.125;0.775x0.755)\n",
       "Name: Accuracy, dtype: object"
      ]
     },
     "execution_count": 66,
     "metadata": {},
     "output_type": "execute_result"
    },
    {
     "data": {
      "image/png": "[encoded data removed]",
      "text/plain": [
       "<matplotlib.figure.Figure at 0x11bf31350>"
      ]
     },
     "metadata": {},
     "output_type": "display_data"
    }
   ],
   "source": [
    "summary.groupby(level='method').Accuracy.plot(legend=True)"
   ]
  },
  {
   "cell_type": "markdown",
   "metadata": {
    "collapsed": true
   },
   "source": [
    "However, PCA are almost always more accurate than RP. PCA is going after the best/perfect seperation to retain the distance from high dimension whereas RP gives a stochastic answer to dimension reduction. \n",
    "\n",
    "So we conclude:\n",
    "\n",
    "|        | Advantage | Disadvantage |\n",
    "| ------------- | ------------- |------------- |\n",
    "| RP  | Fast  | Stochastic solution |\n",
    "| PCA  | Slow  |Perfect solution |"
   ]
  },
  {
   "cell_type": "markdown",
   "metadata": {},
   "source": [
    "## RP and its applications\n",
    "### High dimensional unsupervised clustering\n",
    "\n",
    "As google dictionary suggests, clustering means grouping similar things together. This is hard for dataset with high dimensionality. Give you a concrete example. In situation A, there are two points in a 200 dimensional world: two points are very close in the x,y,z dimension and yet not similar at all in the other 197 dimensions. How should the machine cluster those two points? Are they extremely similar or not? However, in situation B, you are given two points in a 1 dimensional world: one point is at 1.0 and another is at 1.01. To cluster those two points, you just have to look at the euclidean disctance (1.01-1.0) between the two and the euclidean disctance of those two points with the rest of the dataset. Hence, for a high dimensional dataset, we want to reduce the dimensionality before clustering. As Fern (Fern & Brodley, 2003) suggests, an cluster ensemble framework based on RP and expectation-maximization (EM) proved its effectiveness for high dimensional data clustering. \n",
    "\n",
    "Without reshown their work, we are going to do something a little bit different --  **visualize the clustering**\n"
   ]
  },
  {
   "cell_type": "markdown",
   "metadata": {},
   "source": [
    " #### step 1 - reduce dimension using RP "
   ]
  },
  {
   "cell_type": "code",
   "execution_count": 7,
   "metadata": {
    "collapsed": false
   },
   "outputs": [
    {
     "data": {
      "text/plain": [
       "(600, 6)"
      ]
     },
     "execution_count": 7,
     "metadata": {},
     "output_type": "execute_result"
    }
   ],
   "source": [
    "transformer = RP(6) ## reduce dimension\n",
    "df_sparse = transformer.fit_transform(df) \n",
    "df_sparse.shape"
   ]
  },
  {
   "cell_type": "markdown",
   "metadata": {},
   "source": [
    " #### step 2 - use T-SNE to visualize high dimensional data\n",
    " On [scikit-learn](http://scikit-learn.org/stable/modules/generated/sklearn.manifold.TSNE.html) website, it wrote\n",
    " \n",
    " \n",
    "     t-SNE is a tool to visualize high-dimensional data. It converts similarities between data points\n",
    "     to joint probabilities and tries to minimize the Kullback-Leibler divergence between the joint\n",
    "     probabilities of the low-dimensional embedding and the high-dimensional data."
   ]
  },
  {
   "cell_type": "code",
   "execution_count": 10,
   "metadata": {
    "collapsed": false
   },
   "outputs": [
    {
     "data": {
      "text/plain": [
       "(600, 2)"
      ]
     },
     "execution_count": 10,
     "metadata": {},
     "output_type": "execute_result"
    }
   ],
   "source": [
    "## visualize 6-dimension data into x and y coordinate\n",
    "xycoords = TSNE().fit_transform(df_sparse) \n",
    "xycoords.shape"
   ]
  },
  {
   "cell_type": "markdown",
   "metadata": {},
   "source": [
    "#### step 3 - use unsupervised clustering method to identify cluster"
   ]
  },
  {
   "cell_type": "code",
   "execution_count": 11,
   "metadata": {
    "collapsed": true
   },
   "outputs": [],
   "source": [
    "n_clusters = 6 ## is a given (we are cheating a little bit here)\n",
    "km = KMeans(n_clusters)\n",
    "clusters = km.fit_predict(df_sparse)"
   ]
  },
  {
   "cell_type": "markdown",
   "metadata": {},
   "source": [
    "#### step 4 - identify cluster using given label\n",
    "\n",
    "We are given labels for CHART data. The first 100 rows are normal, the second 100 rows are cyclic and so on...  \n",
    "We look at what K-mean result looks like and find the most common label for the first 100 rows, second 100 rows, and so on. If two clusters share the same label, then we will look over the two clusters and decide by eye-picking. \n"
   ]
  },
  {
   "cell_type": "code",
   "execution_count": 12,
   "metadata": {
    "collapsed": false
   },
   "outputs": [
    {
     "data": {
      "text/plain": [
       "[4, 4, 2, 0, 3, 5]"
      ]
     },
     "execution_count": 12,
     "metadata": {},
     "output_type": "execute_result"
    }
   ],
   "source": [
    "def most_common(lst):\n",
    "    data = Counter(lst)\n",
    "    return data.most_common(1)[0][0]\n",
    "\n",
    "chunks = [clusters[x:x+100] for x in xrange(0, len(clusters), 100)]\n",
    "\n",
    "class_name = [most_common(i) for i in chunks]\n",
    "class_name"
   ]
  },
  {
   "cell_type": "code",
   "execution_count": 13,
   "metadata": {
    "collapsed": false
   },
   "outputs": [
    {
     "data": {
      "text/plain": [
       "[array([4, 4, 4, 4, 4, 4, 4, 4, 4, 1, 4, 4, 4, 4, 4, 4, 4, 4, 4, 4, 4, 4, 4,\n",
       "        4, 4, 4, 4, 4, 4, 4, 4, 4, 4, 4, 4, 4, 4, 4, 4, 4, 4, 4, 4, 4, 4, 4,\n",
       "        4, 4, 4, 4, 4, 4, 4, 4, 4, 4, 4, 4, 4, 4, 4, 4, 4, 4, 4, 4, 4, 4, 4,\n",
       "        4, 4, 4, 4, 4, 4, 4, 4, 4, 4, 4, 4, 4, 4, 4, 4, 4, 4, 4, 4, 4, 4, 4,\n",
       "        4, 4, 4, 4, 4, 4, 4, 4], dtype=int32),\n",
       " array([1, 4, 1, 1, 4, 4, 4, 1, 4, 1, 1, 1, 4, 1, 1, 4, 1, 4, 1, 1, 1, 1, 1,\n",
       "        4, 1, 4, 1, 4, 4, 4, 4, 4, 1, 1, 4, 4, 4, 3, 1, 4, 4, 1, 1, 1, 4, 4,\n",
       "        1, 4, 4, 4, 4, 4, 4, 4, 4, 4, 1, 1, 4, 4, 1, 1, 4, 4, 1, 4, 4, 4, 4,\n",
       "        4, 4, 4, 4, 1, 4, 1, 4, 1, 1, 1, 4, 4, 4, 4, 1, 4, 4, 4, 1, 4, 4, 1,\n",
       "        4, 4, 1, 4, 4, 1, 1, 4], dtype=int32)]"
      ]
     },
     "execution_count": 13,
     "metadata": {},
     "output_type": "execute_result"
    }
   ],
   "source": [
    "chunks[0:2]"
   ]
  },
  {
   "cell_type": "code",
   "execution_count": 14,
   "metadata": {
    "collapsed": true
   },
   "outputs": [],
   "source": [
    "class_name[1]=1"
   ]
  },
  {
   "cell_type": "markdown",
   "metadata": {},
   "source": [
    "Since cluster[0] and cluster[1] shares the same label, we have to make changes\n",
    "#### step 5 - use bokeh to visualize the data\n",
    "\n",
    "The points are situated based on the x and y coordinates derided from step 1 and colored by K-mean cluster.   \n",
    "The pop-up is color-coded and denoted by the class labels we assign (given the fact that we know there are 6 classes and each 100 rows represent a different class.) "
   ]
  },
  {
   "cell_type": "code",
   "execution_count": 16,
   "metadata": {
    "collapsed": false
   },
   "outputs": [],
   "source": [
    "colormap = np.array([\n",
    "    \"#dbdb8d\", \"#9edae5\", \"#ff7f0e\", \"#c5b0d5\", \"#2ca02c\", \n",
    "    \"#c49c94\"\n",
    "])\n",
    "names = sum([[i]*100 for i in class_name],[])\n",
    "color = sum([[colormap[i]]*100 for i in class_name],[])"
   ]
  },
  {
   "cell_type": "code",
   "execution_count": 17,
   "metadata": {
    "collapsed": false
   },
   "outputs": [
    {
     "data": {
      "text/html": [
       "\n",
       "\n",
       "    <div class=\"bk-root\">\n",
       "        <div class=\"plotdiv\" id=\"185388dd-d574-4e50-a24e-2695de135816\"></div>\n",
       "    </div>\n",
       "<script type=\"text/javascript\">\n",
       "  \n",
       "  (function(global) {\n",
       "    function now() {\n",
       "      return new Date();\n",
       "    }\n",
       "  \n",
       "    var force = \"\";\n",
       "  \n",
       "    if (typeof (window._bokeh_onload_callbacks) === \"undefined\" || force !== \"\") {\n",
       "      window._bokeh_onload_callbacks = [];\n",
       "      window._bokeh_is_loading = undefined;\n",
       "    }\n",
       "  \n",
       "  \n",
       "    \n",
       "    if (typeof (window._bokeh_timeout) === \"undefined\" || force !== \"\") {\n",
       "      window._bokeh_timeout = Date.now() + 0;\n",
       "      window._bokeh_failed_load = false;\n",
       "    }\n",
       "  \n",
       "    var NB_LOAD_WARNING = {'data': {'text/html':\n",
       "       \"<div style='background-color: #fdd'>\\n\"+\n",
       "       \"<p>\\n\"+\n",
       "       \"BokehJS does not appear to have successfully loaded. If loading BokehJS from CDN, this \\n\"+\n",
       "       \"may be due to a slow or bad network connection. Possible fixes:\\n\"+\n",
       "       \"</p>\\n\"+\n",
       "       \"<ul>\\n\"+\n",
       "       \"<li>re-rerun `output_notebook()` to attempt to load from CDN again, or</li>\\n\"+\n",
       "       \"<li>use INLINE resources instead, as so:</li>\\n\"+\n",
       "       \"</ul>\\n\"+\n",
       "       \"<code>\\n\"+\n",
       "       \"from bokeh.resources import INLINE\\n\"+\n",
       "       \"output_notebook(resources=INLINE)\\n\"+\n",
       "       \"</code>\\n\"+\n",
       "       \"</div>\"}};\n",
       "  \n",
       "    function display_loaded() {\n",
       "      if (window.Bokeh !== undefined) {\n",
       "        Bokeh.$(\"#185388dd-d574-4e50-a24e-2695de135816\").text(\"BokehJS successfully loaded.\");\n",
       "      } else if (Date.now() < window._bokeh_timeout) {\n",
       "        setTimeout(display_loaded, 100)\n",
       "      }\n",
       "    }\n",
       "  \n",
       "    function run_callbacks() {\n",
       "      window._bokeh_onload_callbacks.forEach(function(callback) { callback() });\n",
       "      delete window._bokeh_onload_callbacks\n",
       "      console.info(\"Bokeh: all callbacks have finished\");\n",
       "    }\n",
       "  \n",
       "    function load_libs(js_urls, callback) {\n",
       "      window._bokeh_onload_callbacks.push(callback);\n",
       "      if (window._bokeh_is_loading > 0) {\n",
       "        console.log(\"Bokeh: BokehJS is being loaded, scheduling callback at\", now());\n",
       "        return null;\n",
       "      }\n",
       "      if (js_urls == null || js_urls.length === 0) {\n",
       "        run_callbacks();\n",
       "        return null;\n",
       "      }\n",
       "      console.log(\"Bokeh: BokehJS not loaded, scheduling load and callback at\", now());\n",
       "      window._bokeh_is_loading = js_urls.length;\n",
       "      for (var i = 0; i < js_urls.length; i++) {\n",
       "        var url = js_urls[i];\n",
       "        var s = document.createElement('script');\n",
       "        s.src = url;\n",
       "        s.async = false;\n",
       "        s.onreadystatechange = s.onload = function() {\n",
       "          window._bokeh_is_loading--;\n",
       "          if (window._bokeh_is_loading === 0) {\n",
       "            console.log(\"Bokeh: all BokehJS libraries loaded\");\n",
       "            run_callbacks()\n",
       "          }\n",
       "        };\n",
       "        s.onerror = function() {\n",
       "          console.warn(\"failed to load library \" + url);\n",
       "        };\n",
       "        console.log(\"Bokeh: injecting script tag for BokehJS library: \", url);\n",
       "        document.getElementsByTagName(\"head\")[0].appendChild(s);\n",
       "      }\n",
       "    };var element = document.getElementById(\"185388dd-d574-4e50-a24e-2695de135816\");\n",
       "    if (element == null) {\n",
       "      console.log(\"Bokeh: ERROR: autoload.js configured with elementid '185388dd-d574-4e50-a24e-2695de135816' but no matching script tag was found. \")\n",
       "      return false;\n",
       "    }\n",
       "  \n",
       "    var js_urls = [];\n",
       "  \n",
       "    var inline_js = [\n",
       "      function(Bokeh) {\n",
       "        Bokeh.$(function() {\n",
       "            var docs_json = {\"964d3a4a-e09b-42b2-b6e1-f68dfae60bdd\":{\"roots\":{\"references\":[{\"attributes\":{\"plot\":null,\"text\":\"CHART Map by t-SNE\"},\"id\":\"29bf35d2-2ea1-43ae-8230-2f784fcf1f91\",\"type\":\"Title\"},{\"attributes\":{\"fill_alpha\":{\"value\":0.1},\"fill_color\":{\"value\":\"#1f77b4\"},\"line_alpha\":{\"value\":0.1},\"line_color\":{\"value\":\"#1f77b4\"},\"size\":{\"units\":\"screen\",\"value\":8},\"x\":{\"field\":\"x\"},\"y\":{\"field\":\"y\"}},\"id\":\"98fe1216-b920-4312-8a0a-7e6255df0279\",\"type\":\"Circle\"},{\"attributes\":{\"active_drag\":\"auto\",\"active_scroll\":\"auto\",\"active_tap\":\"auto\",\"tools\":[{\"id\":\"f78668c1-a5e8-4e9b-b189-61e0b5c41613\",\"type\":\"HoverTool\"}]},\"id\":\"5dc4dfc9-13a0-4527-a6c8-9889cc8f4b1c\",\"type\":\"Toolbar\"},{\"attributes\":{},\"id\":\"8afa93b6-42e8-4342-b5b6-d038850df72e\",\"type\":\"ToolEvents\"},{\"attributes\":{\"min_border\":1,\"plot_height\":400,\"plot_width\":900,\"renderers\":[{\"id\":\"04426644-e45d-4456-92a5-af1ab473d96a\",\"type\":\"GlyphRenderer\"}],\"title\":{\"id\":\"29bf35d2-2ea1-43ae-8230-2f784fcf1f91\",\"type\":\"Title\"},\"tool_events\":{\"id\":\"8afa93b6-42e8-4342-b5b6-d038850df72e\",\"type\":\"ToolEvents\"},\"toolbar\":{\"id\":\"5dc4dfc9-13a0-4527-a6c8-9889cc8f4b1c\",\"type\":\"Toolbar\"},\"x_range\":{\"id\":\"d67f3df4-0ad7-4b4d-9b9f-c979fed80561\",\"type\":\"DataRange1d\"},\"y_range\":{\"id\":\"2f8e6b5c-4875-428b-bacf-0eec1c4db804\",\"type\":\"DataRange1d\"}},\"id\":\"3e78c725-e9d9-4f38-9b7e-9aab7f25a025\",\"subtype\":\"Figure\",\"type\":\"Plot\"},{\"attributes\":{\"data_source\":{\"id\":\"f331f86e-4c3e-4e86-ad9e-bb161690f59b\",\"type\":\"ColumnDataSource\"},\"glyph\":{\"id\":\"a69db802-eb12-4d9c-8740-65a1f796fb78\",\"type\":\"Circle\"},\"hover_glyph\":null,\"nonselection_glyph\":{\"id\":\"98fe1216-b920-4312-8a0a-7e6255df0279\",\"type\":\"Circle\"},\"selection_glyph\":null},\"id\":\"04426644-e45d-4456-92a5-af1ab473d96a\",\"type\":\"GlyphRenderer\"},{\"attributes\":{\"callback\":null},\"id\":\"d67f3df4-0ad7-4b4d-9b9f-c979fed80561\",\"type\":\"DataRange1d\"},{\"attributes\":{\"callback\":null,\"plot\":{\"id\":\"3e78c725-e9d9-4f38-9b7e-9aab7f25a025\",\"subtype\":\"Figure\",\"type\":\"Plot\"},\"tooltips\":\"        \\n<div>\\n            <p style=\\\"font-size: 17px;color: @color;\\\">class: <span style=\\\"font-size: 17px; font-weight: bold;color: @color;\\\">@classtype</span></p>\\n        \\n</div>\"},\"id\":\"f78668c1-a5e8-4e9b-b189-61e0b5c41613\",\"type\":\"HoverTool\"},{\"attributes\":{\"callback\":null},\"id\":\"2f8e6b5c-4875-428b-bacf-0eec1c4db804\",\"type\":\"DataRange1d\"},{\"attributes\":{\"callback\":null,\"column_names\":[\"color\",\"classtype\",\"y\",\"x\",\"line_color\",\"fill_color\"],\"data\":{\"classtype\":[4,4,4,4,4,4,4,4,4,4,4,4,4,4,4,4,4,4,4,4,4,4,4,4,4,4,4,4,4,4,4,4,4,4,4,4,4,4,4,4,4,4,4,4,4,4,4,4,4,4,4,4,4,4,4,4,4,4,4,4,4,4,4,4,4,4,4,4,4,4,4,4,4,4,4,4,4,4,4,4,4,4,4,4,4,4,4,4,4,4,4,4,4,4,4,4,4,4,4,4,1,1,1,1,1,1,1,1,1,1,1,1,1,1,1,1,1,1,1,1,1,1,1,1,1,1,1,1,1,1,1,1,1,1,1,1,1,1,1,1,1,1,1,1,1,1,1,1,1,1,1,1,1,1,1,1,1,1,1,1,1,1,1,1,1,1,1,1,1,1,1,1,1,1,1,1,1,1,1,1,1,1,1,1,1,1,1,1,1,1,1,1,1,1,1,1,1,1,1,1,2,2,2,2,2,2,2,2,2,2,2,2,2,2,2,2,2,2,2,2,2,2,2,2,2,2,2,2,2,2,2,2,2,2,2,2,2,2,2,2,2,2,2,2,2,2,2,2,2,2,2,2,2,2,2,2,2,2,2,2,2,2,2,2,2,2,2,2,2,2,2,2,2,2,2,2,2,2,2,2,2,2,2,2,2,2,2,2,2,2,2,2,2,2,2,2,2,2,2,2,0,0,0,0,0,0,0,0,0,0,0,0,0,0,0,0,0,0,0,0,0,0,0,0,0,0,0,0,0,0,0,0,0,0,0,0,0,0,0,0,0,0,0,0,0,0,0,0,0,0,0,0,0,0,0,0,0,0,0,0,0,0,0,0,0,0,0,0,0,0,0,0,0,0,0,0,0,0,0,0,0,0,0,0,0,0,0,0,0,0,0,0,0,0,0,0,0,0,0,0,3,3,3,3,3,3,3,3,3,3,3,3,3,3,3,3,3,3,3,3,3,3,3,3,3,3,3,3,3,3,3,3,3,3,3,3,3,3,3,3,3,3,3,3,3,3,3,3,3,3,3,3,3,3,3,3,3,3,3,3,3,3,3,3,3,3,3,3,3,3,3,3,3,3,3,3,3,3,3,3,3,3,3,3,3,3,3,3,3,3,3,3,3,3,3,3,3,3,3,3,5,5,5,5,5,5,5,5,5,5,5,5,5,5,5,5,5,5,5,5,5,5,5,5,5,5,5,5,5,5,5,5,5,5,5,5,5,5,5,5,5,5,5,5,5,5,5,5,5,5,5,5,5,5,5,5,5,5,5,5,5,5,5,5,5,5,5,5,5,5,5,5,5,5,5,5,5,5,5,5,5,5,5,5,5,5,5,5,5,5,5,5,5,5,5,5,5,5,5,5],\"color\":[\"#2ca02c\",\"#2ca02c\",\"#2ca02c\",\"#2ca02c\",\"#2ca02c\",\"#2ca02c\",\"#2ca02c\",\"#2ca02c\",\"#2ca02c\",\"#2ca02c\",\"#2ca02c\",\"#2ca02c\",\"#2ca02c\",\"#2ca02c\",\"#2ca02c\",\"#2ca02c\",\"#2ca02c\",\"#2ca02c\",\"#2ca02c\",\"#2ca02c\",\"#2ca02c\",\"#2ca02c\",\"#2ca02c\",\"#2ca02c\",\"#2ca02c\",\"#2ca02c\",\"#2ca02c\",\"#2ca02c\",\"#2ca02c\",\"#2ca02c\",\"#2ca02c\",\"#2ca02c\",\"#2ca02c\",\"#2ca02c\",\"#2ca02c\",\"#2ca02c\",\"#2ca02c\",\"#2ca02c\",\"#2ca02c\",\"#2ca02c\",\"#2ca02c\",\"#2ca02c\",\"#2ca02c\",\"#2ca02c\",\"#2ca02c\",\"#2ca02c\",\"#2ca02c\",\"#2ca02c\",\"#2ca02c\",\"#2ca02c\",\"#2ca02c\",\"#2ca02c\",\"#2ca02c\",\"#2ca02c\",\"#2ca02c\",\"#2ca02c\",\"#2ca02c\",\"#2ca02c\",\"#2ca02c\",\"#2ca02c\",\"#2ca02c\",\"#2ca02c\",\"#2ca02c\",\"#2ca02c\",\"#2ca02c\",\"#2ca02c\",\"#2ca02c\",\"#2ca02c\",\"#2ca02c\",\"#2ca02c\",\"#2ca02c\",\"#2ca02c\",\"#2ca02c\",\"#2ca02c\",\"#2ca02c\",\"#2ca02c\",\"#2ca02c\",\"#2ca02c\",\"#2ca02c\",\"#2ca02c\",\"#2ca02c\",\"#2ca02c\",\"#2ca02c\",\"#2ca02c\",\"#2ca02c\",\"#2ca02c\",\"#2ca02c\",\"#2ca02c\",\"#2ca02c\",\"#2ca02c\",\"#2ca02c\",\"#2ca02c\",\"#2ca02c\",\"#2ca02c\",\"#2ca02c\",\"#2ca02c\",\"#2ca02c\",\"#2ca02c\",\"#2ca02c\",\"#2ca02c\",\"#9edae5\",\"#9edae5\",\"#9edae5\",\"#9edae5\",\"#9edae5\",\"#9edae5\",\"#9edae5\",\"#9edae5\",\"#9edae5\",\"#9edae5\",\"#9edae5\",\"#9edae5\",\"#9edae5\",\"#9edae5\",\"#9edae5\",\"#9edae5\",\"#9edae5\",\"#9edae5\",\"#9edae5\",\"#9edae5\",\"#9edae5\",\"#9edae5\",\"#9edae5\",\"#9edae5\",\"#9edae5\",\"#9edae5\",\"#9edae5\",\"#9edae5\",\"#9edae5\",\"#9edae5\",\"#9edae5\",\"#9edae5\",\"#9edae5\",\"#9edae5\",\"#9edae5\",\"#9edae5\",\"#9edae5\",\"#9edae5\",\"#9edae5\",\"#9edae5\",\"#9edae5\",\"#9edae5\",\"#9edae5\",\"#9edae5\",\"#9edae5\",\"#9edae5\",\"#9edae5\",\"#9edae5\",\"#9edae5\",\"#9edae5\",\"#9edae5\",\"#9edae5\",\"#9edae5\",\"#9edae5\",\"#9edae5\",\"#9edae5\",\"#9edae5\",\"#9edae5\",\"#9edae5\",\"#9edae5\",\"#9edae5\",\"#9edae5\",\"#9edae5\",\"#9edae5\",\"#9edae5\",\"#9edae5\",\"#9edae5\",\"#9edae5\",\"#9edae5\",\"#9edae5\",\"#9edae5\",\"#9edae5\",\"#9edae5\",\"#9edae5\",\"#9edae5\",\"#9edae5\",\"#9edae5\",\"#9edae5\",\"#9edae5\",\"#9edae5\",\"#9edae5\",\"#9edae5\",\"#9edae5\",\"#9edae5\",\"#9edae5\",\"#9edae5\",\"#9edae5\",\"#9edae5\",\"#9edae5\",\"#9edae5\",\"#9edae5\",\"#9edae5\",\"#9edae5\",\"#9edae5\",\"#9edae5\",\"#9edae5\",\"#9edae5\",\"#9edae5\",\"#9edae5\",\"#9edae5\",\"#ff7f0e\",\"#ff7f0e\",\"#ff7f0e\",\"#ff7f0e\",\"#ff7f0e\",\"#ff7f0e\",\"#ff7f0e\",\"#ff7f0e\",\"#ff7f0e\",\"#ff7f0e\",\"#ff7f0e\",\"#ff7f0e\",\"#ff7f0e\",\"#ff7f0e\",\"#ff7f0e\",\"#ff7f0e\",\"#ff7f0e\",\"#ff7f0e\",\"#ff7f0e\",\"#ff7f0e\",\"#ff7f0e\",\"#ff7f0e\",\"#ff7f0e\",\"#ff7f0e\",\"#ff7f0e\",\"#ff7f0e\",\"#ff7f0e\",\"#ff7f0e\",\"#ff7f0e\",\"#ff7f0e\",\"#ff7f0e\",\"#ff7f0e\",\"#ff7f0e\",\"#ff7f0e\",\"#ff7f0e\",\"#ff7f0e\",\"#ff7f0e\",\"#ff7f0e\",\"#ff7f0e\",\"#ff7f0e\",\"#ff7f0e\",\"#ff7f0e\",\"#ff7f0e\",\"#ff7f0e\",\"#ff7f0e\",\"#ff7f0e\",\"#ff7f0e\",\"#ff7f0e\",\"#ff7f0e\",\"#ff7f0e\",\"#ff7f0e\",\"#ff7f0e\",\"#ff7f0e\",\"#ff7f0e\",\"#ff7f0e\",\"#ff7f0e\",\"#ff7f0e\",\"#ff7f0e\",\"#ff7f0e\",\"#ff7f0e\",\"#ff7f0e\",\"#ff7f0e\",\"#ff7f0e\",\"#ff7f0e\",\"#ff7f0e\",\"#ff7f0e\",\"#ff7f0e\",\"#ff7f0e\",\"#ff7f0e\",\"#ff7f0e\",\"#ff7f0e\",\"#ff7f0e\",\"#ff7f0e\",\"#ff7f0e\",\"#ff7f0e\",\"#ff7f0e\",\"#ff7f0e\",\"#ff7f0e\",\"#ff7f0e\",\"#ff7f0e\",\"#ff7f0e\",\"#ff7f0e\",\"#ff7f0e\",\"#ff7f0e\",\"#ff7f0e\",\"#ff7f0e\",\"#ff7f0e\",\"#ff7f0e\",\"#ff7f0e\",\"#ff7f0e\",\"#ff7f0e\",\"#ff7f0e\",\"#ff7f0e\",\"#ff7f0e\",\"#ff7f0e\",\"#ff7f0e\",\"#ff7f0e\",\"#ff7f0e\",\"#ff7f0e\",\"#ff7f0e\",\"#dbdb8d\",\"#dbdb8d\",\"#dbdb8d\",\"#dbdb8d\",\"#dbdb8d\",\"#dbdb8d\",\"#dbdb8d\",\"#dbdb8d\",\"#dbdb8d\",\"#dbdb8d\",\"#dbdb8d\",\"#dbdb8d\",\"#dbdb8d\",\"#dbdb8d\",\"#dbdb8d\",\"#dbdb8d\",\"#dbdb8d\",\"#dbdb8d\",\"#dbdb8d\",\"#dbdb8d\",\"#dbdb8d\",\"#dbdb8d\",\"#dbdb8d\",\"#dbdb8d\",\"#dbdb8d\",\"#dbdb8d\",\"#dbdb8d\",\"#dbdb8d\",\"#dbdb8d\",\"#dbdb8d\",\"#dbdb8d\",\"#dbdb8d\",\"#dbdb8d\",\"#dbdb8d\",\"#dbdb8d\",\"#dbdb8d\",\"#dbdb8d\",\"#dbdb8d\",\"#dbdb8d\",\"#dbdb8d\",\"#dbdb8d\",\"#dbdb8d\",\"#dbdb8d\",\"#dbdb8d\",\"#dbdb8d\",\"#dbdb8d\",\"#dbdb8d\",\"#dbdb8d\",\"#dbdb8d\",\"#dbdb8d\",\"#dbdb8d\",\"#dbdb8d\",\"#dbdb8d\",\"#dbdb8d\",\"#dbdb8d\",\"#dbdb8d\",\"#dbdb8d\",\"#dbdb8d\",\"#dbdb8d\",\"#dbdb8d\",\"#dbdb8d\",\"#dbdb8d\",\"#dbdb8d\",\"#dbdb8d\",\"#dbdb8d\",\"#dbdb8d\",\"#dbdb8d\",\"#dbdb8d\",\"#dbdb8d\",\"#dbdb8d\",\"#dbdb8d\",\"#dbdb8d\",\"#dbdb8d\",\"#dbdb8d\",\"#dbdb8d\",\"#dbdb8d\",\"#dbdb8d\",\"#dbdb8d\",\"#dbdb8d\",\"#dbdb8d\",\"#dbdb8d\",\"#dbdb8d\",\"#dbdb8d\",\"#dbdb8d\",\"#dbdb8d\",\"#dbdb8d\",\"#dbdb8d\",\"#dbdb8d\",\"#dbdb8d\",\"#dbdb8d\",\"#dbdb8d\",\"#dbdb8d\",\"#dbdb8d\",\"#dbdb8d\",\"#dbdb8d\",\"#dbdb8d\",\"#dbdb8d\",\"#dbdb8d\",\"#dbdb8d\",\"#dbdb8d\",\"#c5b0d5\",\"#c5b0d5\",\"#c5b0d5\",\"#c5b0d5\",\"#c5b0d5\",\"#c5b0d5\",\"#c5b0d5\",\"#c5b0d5\",\"#c5b0d5\",\"#c5b0d5\",\"#c5b0d5\",\"#c5b0d5\",\"#c5b0d5\",\"#c5b0d5\",\"#c5b0d5\",\"#c5b0d5\",\"#c5b0d5\",\"#c5b0d5\",\"#c5b0d5\",\"#c5b0d5\",\"#c5b0d5\",\"#c5b0d5\",\"#c5b0d5\",\"#c5b0d5\",\"#c5b0d5\",\"#c5b0d5\",\"#c5b0d5\",\"#c5b0d5\",\"#c5b0d5\",\"#c5b0d5\",\"#c5b0d5\",\"#c5b0d5\",\"#c5b0d5\",\"#c5b0d5\",\"#c5b0d5\",\"#c5b0d5\",\"#c5b0d5\",\"#c5b0d5\",\"#c5b0d5\",\"#c5b0d5\",\"#c5b0d5\",\"#c5b0d5\",\"#c5b0d5\",\"#c5b0d5\",\"#c5b0d5\",\"#c5b0d5\",\"#c5b0d5\",\"#c5b0d5\",\"#c5b0d5\",\"#c5b0d5\",\"#c5b0d5\",\"#c5b0d5\",\"#c5b0d5\",\"#c5b0d5\",\"#c5b0d5\",\"#c5b0d5\",\"#c5b0d5\",\"#c5b0d5\",\"#c5b0d5\",\"#c5b0d5\",\"#c5b0d5\",\"#c5b0d5\",\"#c5b0d5\",\"#c5b0d5\",\"#c5b0d5\",\"#c5b0d5\",\"#c5b0d5\",\"#c5b0d5\",\"#c5b0d5\",\"#c5b0d5\",\"#c5b0d5\",\"#c5b0d5\",\"#c5b0d5\",\"#c5b0d5\",\"#c5b0d5\",\"#c5b0d5\",\"#c5b0d5\",\"#c5b0d5\",\"#c5b0d5\",\"#c5b0d5\",\"#c5b0d5\",\"#c5b0d5\",\"#c5b0d5\",\"#c5b0d5\",\"#c5b0d5\",\"#c5b0d5\",\"#c5b0d5\",\"#c5b0d5\",\"#c5b0d5\",\"#c5b0d5\",\"#c5b0d5\",\"#c5b0d5\",\"#c5b0d5\",\"#c5b0d5\",\"#c5b0d5\",\"#c5b0d5\",\"#c5b0d5\",\"#c5b0d5\",\"#c5b0d5\",\"#c5b0d5\",\"#c49c94\",\"#c49c94\",\"#c49c94\",\"#c49c94\",\"#c49c94\",\"#c49c94\",\"#c49c94\",\"#c49c94\",\"#c49c94\",\"#c49c94\",\"#c49c94\",\"#c49c94\",\"#c49c94\",\"#c49c94\",\"#c49c94\",\"#c49c94\",\"#c49c94\",\"#c49c94\",\"#c49c94\",\"#c49c94\",\"#c49c94\",\"#c49c94\",\"#c49c94\",\"#c49c94\",\"#c49c94\",\"#c49c94\",\"#c49c94\",\"#c49c94\",\"#c49c94\",\"#c49c94\",\"#c49c94\",\"#c49c94\",\"#c49c94\",\"#c49c94\",\"#c49c94\",\"#c49c94\",\"#c49c94\",\"#c49c94\",\"#c49c94\",\"#c49c94\",\"#c49c94\",\"#c49c94\",\"#c49c94\",\"#c49c94\",\"#c49c94\",\"#c49c94\",\"#c49c94\",\"#c49c94\",\"#c49c94\",\"#c49c94\",\"#c49c94\",\"#c49c94\",\"#c49c94\",\"#c49c94\",\"#c49c94\",\"#c49c94\",\"#c49c94\",\"#c49c94\",\"#c49c94\",\"#c49c94\",\"#c49c94\",\"#c49c94\",\"#c49c94\",\"#c49c94\",\"#c49c94\",\"#c49c94\",\"#c49c94\",\"#c49c94\",\"#c49c94\",\"#c49c94\",\"#c49c94\",\"#c49c94\",\"#c49c94\",\"#c49c94\",\"#c49c94\",\"#c49c94\",\"#c49c94\",\"#c49c94\",\"#c49c94\",\"#c49c94\",\"#c49c94\",\"#c49c94\",\"#c49c94\",\"#c49c94\",\"#c49c94\",\"#c49c94\",\"#c49c94\",\"#c49c94\",\"#c49c94\",\"#c49c94\",\"#c49c94\",\"#c49c94\",\"#c49c94\",\"#c49c94\",\"#c49c94\",\"#c49c94\",\"#c49c94\",\"#c49c94\",\"#c49c94\",\"#c49c94\"],\"fill_color\":[\"#2ca02c\",\"#2ca02c\",\"#2ca02c\",\"#2ca02c\",\"#2ca02c\",\"#2ca02c\",\"#2ca02c\",\"#2ca02c\",\"#2ca02c\",\"#9edae5\",\"#2ca02c\",\"#2ca02c\",\"#2ca02c\",\"#2ca02c\",\"#2ca02c\",\"#2ca02c\",\"#2ca02c\",\"#2ca02c\",\"#2ca02c\",\"#2ca02c\",\"#2ca02c\",\"#2ca02c\",\"#2ca02c\",\"#2ca02c\",\"#2ca02c\",\"#2ca02c\",\"#2ca02c\",\"#2ca02c\",\"#2ca02c\",\"#2ca02c\",\"#2ca02c\",\"#2ca02c\",\"#2ca02c\",\"#2ca02c\",\"#2ca02c\",\"#2ca02c\",\"#2ca02c\",\"#2ca02c\",\"#2ca02c\",\"#2ca02c\",\"#2ca02c\",\"#2ca02c\",\"#2ca02c\",\"#2ca02c\",\"#2ca02c\",\"#2ca02c\",\"#2ca02c\",\"#2ca02c\",\"#2ca02c\",\"#2ca02c\",\"#2ca02c\",\"#2ca02c\",\"#2ca02c\",\"#2ca02c\",\"#2ca02c\",\"#2ca02c\",\"#2ca02c\",\"#2ca02c\",\"#2ca02c\",\"#2ca02c\",\"#2ca02c\",\"#2ca02c\",\"#2ca02c\",\"#2ca02c\",\"#2ca02c\",\"#2ca02c\",\"#2ca02c\",\"#2ca02c\",\"#2ca02c\",\"#2ca02c\",\"#2ca02c\",\"#2ca02c\",\"#2ca02c\",\"#2ca02c\",\"#2ca02c\",\"#2ca02c\",\"#2ca02c\",\"#2ca02c\",\"#2ca02c\",\"#2ca02c\",\"#2ca02c\",\"#2ca02c\",\"#2ca02c\",\"#2ca02c\",\"#2ca02c\",\"#2ca02c\",\"#2ca02c\",\"#2ca02c\",\"#2ca02c\",\"#2ca02c\",\"#2ca02c\",\"#2ca02c\",\"#2ca02c\",\"#2ca02c\",\"#2ca02c\",\"#2ca02c\",\"#2ca02c\",\"#2ca02c\",\"#2ca02c\",\"#2ca02c\",\"#9edae5\",\"#2ca02c\",\"#9edae5\",\"#9edae5\",\"#2ca02c\",\"#2ca02c\",\"#2ca02c\",\"#9edae5\",\"#2ca02c\",\"#9edae5\",\"#9edae5\",\"#9edae5\",\"#2ca02c\",\"#9edae5\",\"#9edae5\",\"#2ca02c\",\"#9edae5\",\"#2ca02c\",\"#9edae5\",\"#9edae5\",\"#9edae5\",\"#9edae5\",\"#9edae5\",\"#2ca02c\",\"#9edae5\",\"#2ca02c\",\"#9edae5\",\"#2ca02c\",\"#2ca02c\",\"#2ca02c\",\"#2ca02c\",\"#2ca02c\",\"#9edae5\",\"#9edae5\",\"#2ca02c\",\"#2ca02c\",\"#2ca02c\",\"#c5b0d5\",\"#9edae5\",\"#2ca02c\",\"#2ca02c\",\"#9edae5\",\"#9edae5\",\"#9edae5\",\"#2ca02c\",\"#2ca02c\",\"#9edae5\",\"#2ca02c\",\"#2ca02c\",\"#2ca02c\",\"#2ca02c\",\"#2ca02c\",\"#2ca02c\",\"#2ca02c\",\"#2ca02c\",\"#2ca02c\",\"#9edae5\",\"#9edae5\",\"#2ca02c\",\"#2ca02c\",\"#9edae5\",\"#9edae5\",\"#2ca02c\",\"#2ca02c\",\"#9edae5\",\"#2ca02c\",\"#2ca02c\",\"#2ca02c\",\"#2ca02c\",\"#2ca02c\",\"#2ca02c\",\"#2ca02c\",\"#2ca02c\",\"#9edae5\",\"#2ca02c\",\"#9edae5\",\"#2ca02c\",\"#9edae5\",\"#9edae5\",\"#9edae5\",\"#2ca02c\",\"#2ca02c\",\"#2ca02c\",\"#2ca02c\",\"#9edae5\",\"#2ca02c\",\"#2ca02c\",\"#2ca02c\",\"#9edae5\",\"#2ca02c\",\"#2ca02c\",\"#9edae5\",\"#2ca02c\",\"#2ca02c\",\"#9edae5\",\"#2ca02c\",\"#2ca02c\",\"#9edae5\",\"#9edae5\",\"#2ca02c\",\"#c5b0d5\",\"#c5b0d5\",\"#ff7f0e\",\"#ff7f0e\",\"#c5b0d5\",\"#c5b0d5\",\"#ff7f0e\",\"#ff7f0e\",\"#ff7f0e\",\"#ff7f0e\",\"#c5b0d5\",\"#c5b0d5\",\"#ff7f0e\",\"#c5b0d5\",\"#c5b0d5\",\"#ff7f0e\",\"#c5b0d5\",\"#ff7f0e\",\"#c5b0d5\",\"#ff7f0e\",\"#ff7f0e\",\"#c5b0d5\",\"#ff7f0e\",\"#c5b0d5\",\"#ff7f0e\",\"#ff7f0e\",\"#c5b0d5\",\"#ff7f0e\",\"#ff7f0e\",\"#ff7f0e\",\"#ff7f0e\",\"#ff7f0e\",\"#ff7f0e\",\"#ff7f0e\",\"#c5b0d5\",\"#c5b0d5\",\"#ff7f0e\",\"#ff7f0e\",\"#ff7f0e\",\"#ff7f0e\",\"#c5b0d5\",\"#c5b0d5\",\"#ff7f0e\",\"#ff7f0e\",\"#ff7f0e\",\"#ff7f0e\",\"#c5b0d5\",\"#c5b0d5\",\"#ff7f0e\",\"#c5b0d5\",\"#ff7f0e\",\"#c5b0d5\",\"#ff7f0e\",\"#ff7f0e\",\"#c5b0d5\",\"#c5b0d5\",\"#ff7f0e\",\"#c5b0d5\",\"#ff7f0e\",\"#c5b0d5\",\"#ff7f0e\",\"#ff7f0e\",\"#c5b0d5\",\"#ff7f0e\",\"#ff7f0e\",\"#ff7f0e\",\"#ff7f0e\",\"#c5b0d5\",\"#c5b0d5\",\"#ff7f0e\",\"#c5b0d5\",\"#c5b0d5\",\"#c5b0d5\",\"#c5b0d5\",\"#ff7f0e\",\"#c5b0d5\",\"#ff7f0e\",\"#ff7f0e\",\"#ff7f0e\",\"#c5b0d5\",\"#ff7f0e\",\"#c5b0d5\",\"#ff7f0e\",\"#c5b0d5\",\"#ff7f0e\",\"#c5b0d5\",\"#c5b0d5\",\"#ff7f0e\",\"#c5b0d5\",\"#c5b0d5\",\"#c5b0d5\",\"#c5b0d5\",\"#ff7f0e\",\"#c5b0d5\",\"#ff7f0e\",\"#c5b0d5\",\"#c5b0d5\",\"#c5b0d5\",\"#c5b0d5\",\"#ff7f0e\",\"#dbdb8d\",\"#c49c94\",\"#c49c94\",\"#dbdb8d\",\"#c49c94\",\"#c49c94\",\"#dbdb8d\",\"#c49c94\",\"#c49c94\",\"#dbdb8d\",\"#dbdb8d\",\"#dbdb8d\",\"#dbdb8d\",\"#dbdb8d\",\"#dbdb8d\",\"#dbdb8d\",\"#c49c94\",\"#dbdb8d\",\"#dbdb8d\",\"#dbdb8d\",\"#dbdb8d\",\"#dbdb8d\",\"#dbdb8d\",\"#c49c94\",\"#dbdb8d\",\"#dbdb8d\",\"#c49c94\",\"#c49c94\",\"#c49c94\",\"#c49c94\",\"#c49c94\",\"#dbdb8d\",\"#c49c94\",\"#c49c94\",\"#dbdb8d\",\"#dbdb8d\",\"#dbdb8d\",\"#dbdb8d\",\"#c49c94\",\"#dbdb8d\",\"#dbdb8d\",\"#dbdb8d\",\"#dbdb8d\",\"#dbdb8d\",\"#c49c94\",\"#c49c94\",\"#dbdb8d\",\"#dbdb8d\",\"#c49c94\",\"#dbdb8d\",\"#c49c94\",\"#dbdb8d\",\"#dbdb8d\",\"#c49c94\",\"#c49c94\",\"#dbdb8d\",\"#c49c94\",\"#dbdb8d\",\"#dbdb8d\",\"#dbdb8d\",\"#c49c94\",\"#c49c94\",\"#dbdb8d\",\"#c49c94\",\"#dbdb8d\",\"#c49c94\",\"#dbdb8d\",\"#dbdb8d\",\"#dbdb8d\",\"#dbdb8d\",\"#dbdb8d\",\"#dbdb8d\",\"#c49c94\",\"#dbdb8d\",\"#c49c94\",\"#c49c94\",\"#c49c94\",\"#c49c94\",\"#c49c94\",\"#dbdb8d\",\"#dbdb8d\",\"#dbdb8d\",\"#c49c94\",\"#dbdb8d\",\"#dbdb8d\",\"#dbdb8d\",\"#c49c94\",\"#dbdb8d\",\"#dbdb8d\",\"#c49c94\",\"#dbdb8d\",\"#dbdb8d\",\"#dbdb8d\",\"#dbdb8d\",\"#c49c94\",\"#dbdb8d\",\"#c49c94\",\"#dbdb8d\",\"#dbdb8d\",\"#c49c94\",\"#c5b0d5\",\"#c5b0d5\",\"#ff7f0e\",\"#c5b0d5\",\"#c5b0d5\",\"#c5b0d5\",\"#ff7f0e\",\"#c5b0d5\",\"#c5b0d5\",\"#c5b0d5\",\"#c5b0d5\",\"#ff7f0e\",\"#ff7f0e\",\"#ff7f0e\",\"#ff7f0e\",\"#c5b0d5\",\"#c5b0d5\",\"#ff7f0e\",\"#c5b0d5\",\"#c5b0d5\",\"#c5b0d5\",\"#ff7f0e\",\"#2ca02c\",\"#ff7f0e\",\"#c5b0d5\",\"#ff7f0e\",\"#c5b0d5\",\"#c5b0d5\",\"#ff7f0e\",\"#c5b0d5\",\"#ff7f0e\",\"#c5b0d5\",\"#ff7f0e\",\"#c5b0d5\",\"#c5b0d5\",\"#c5b0d5\",\"#c5b0d5\",\"#c5b0d5\",\"#c5b0d5\",\"#c5b0d5\",\"#ff7f0e\",\"#c5b0d5\",\"#c5b0d5\",\"#c5b0d5\",\"#c5b0d5\",\"#c5b0d5\",\"#c5b0d5\",\"#ff7f0e\",\"#c5b0d5\",\"#c5b0d5\",\"#c5b0d5\",\"#2ca02c\",\"#ff7f0e\",\"#c5b0d5\",\"#ff7f0e\",\"#ff7f0e\",\"#ff7f0e\",\"#ff7f0e\",\"#c5b0d5\",\"#c5b0d5\",\"#c5b0d5\",\"#c5b0d5\",\"#c5b0d5\",\"#c5b0d5\",\"#c5b0d5\",\"#c5b0d5\",\"#c5b0d5\",\"#c5b0d5\",\"#c5b0d5\",\"#ff7f0e\",\"#ff7f0e\",\"#c5b0d5\",\"#c5b0d5\",\"#c5b0d5\",\"#c5b0d5\",\"#ff7f0e\",\"#ff7f0e\",\"#c5b0d5\",\"#c5b0d5\",\"#c5b0d5\",\"#ff7f0e\",\"#ff7f0e\",\"#c5b0d5\",\"#c5b0d5\",\"#c5b0d5\",\"#c5b0d5\",\"#c5b0d5\",\"#ff7f0e\",\"#c5b0d5\",\"#c5b0d5\",\"#c5b0d5\",\"#ff7f0e\",\"#c5b0d5\",\"#ff7f0e\",\"#c5b0d5\",\"#c5b0d5\",\"#ff7f0e\",\"#c5b0d5\",\"#c5b0d5\",\"#c5b0d5\",\"#dbdb8d\",\"#dbdb8d\",\"#c49c94\",\"#c49c94\",\"#c49c94\",\"#c49c94\",\"#c49c94\",\"#c49c94\",\"#dbdb8d\",\"#c49c94\",\"#c49c94\",\"#c49c94\",\"#c49c94\",\"#c49c94\",\"#dbdb8d\",\"#dbdb8d\",\"#c49c94\",\"#c49c94\",\"#c49c94\",\"#dbdb8d\",\"#dbdb8d\",\"#dbdb8d\",\"#c49c94\",\"#c49c94\",\"#dbdb8d\",\"#c49c94\",\"#dbdb8d\",\"#c49c94\",\"#c49c94\",\"#c49c94\",\"#c49c94\",\"#c49c94\",\"#c49c94\",\"#dbdb8d\",\"#c49c94\",\"#c49c94\",\"#c49c94\",\"#c49c94\",\"#dbdb8d\",\"#dbdb8d\",\"#c49c94\",\"#dbdb8d\",\"#c49c94\",\"#dbdb8d\",\"#c49c94\",\"#c49c94\",\"#dbdb8d\",\"#c49c94\",\"#dbdb8d\",\"#c49c94\",\"#c49c94\",\"#dbdb8d\",\"#dbdb8d\",\"#dbdb8d\",\"#c49c94\",\"#c49c94\",\"#c49c94\",\"#c49c94\",\"#c49c94\",\"#c49c94\",\"#c49c94\",\"#dbdb8d\",\"#dbdb8d\",\"#dbdb8d\",\"#c49c94\",\"#dbdb8d\",\"#c49c94\",\"#c49c94\",\"#c49c94\",\"#c49c94\",\"#c49c94\",\"#dbdb8d\",\"#dbdb8d\",\"#dbdb8d\",\"#dbdb8d\",\"#c49c94\",\"#c49c94\",\"#dbdb8d\",\"#c49c94\",\"#dbdb8d\",\"#c49c94\",\"#c49c94\",\"#c49c94\",\"#c49c94\",\"#dbdb8d\",\"#c49c94\",\"#dbdb8d\",\"#c49c94\",\"#c49c94\",\"#c49c94\",\"#c49c94\",\"#c49c94\",\"#c49c94\",\"#c49c94\",\"#dbdb8d\",\"#c49c94\",\"#c49c94\",\"#c49c94\",\"#dbdb8d\",\"#dbdb8d\"],\"line_color\":[\"#2ca02c\",\"#2ca02c\",\"#2ca02c\",\"#2ca02c\",\"#2ca02c\",\"#2ca02c\",\"#2ca02c\",\"#2ca02c\",\"#2ca02c\",\"#9edae5\",\"#2ca02c\",\"#2ca02c\",\"#2ca02c\",\"#2ca02c\",\"#2ca02c\",\"#2ca02c\",\"#2ca02c\",\"#2ca02c\",\"#2ca02c\",\"#2ca02c\",\"#2ca02c\",\"#2ca02c\",\"#2ca02c\",\"#2ca02c\",\"#2ca02c\",\"#2ca02c\",\"#2ca02c\",\"#2ca02c\",\"#2ca02c\",\"#2ca02c\",\"#2ca02c\",\"#2ca02c\",\"#2ca02c\",\"#2ca02c\",\"#2ca02c\",\"#2ca02c\",\"#2ca02c\",\"#2ca02c\",\"#2ca02c\",\"#2ca02c\",\"#2ca02c\",\"#2ca02c\",\"#2ca02c\",\"#2ca02c\",\"#2ca02c\",\"#2ca02c\",\"#2ca02c\",\"#2ca02c\",\"#2ca02c\",\"#2ca02c\",\"#2ca02c\",\"#2ca02c\",\"#2ca02c\",\"#2ca02c\",\"#2ca02c\",\"#2ca02c\",\"#2ca02c\",\"#2ca02c\",\"#2ca02c\",\"#2ca02c\",\"#2ca02c\",\"#2ca02c\",\"#2ca02c\",\"#2ca02c\",\"#2ca02c\",\"#2ca02c\",\"#2ca02c\",\"#2ca02c\",\"#2ca02c\",\"#2ca02c\",\"#2ca02c\",\"#2ca02c\",\"#2ca02c\",\"#2ca02c\",\"#2ca02c\",\"#2ca02c\",\"#2ca02c\",\"#2ca02c\",\"#2ca02c\",\"#2ca02c\",\"#2ca02c\",\"#2ca02c\",\"#2ca02c\",\"#2ca02c\",\"#2ca02c\",\"#2ca02c\",\"#2ca02c\",\"#2ca02c\",\"#2ca02c\",\"#2ca02c\",\"#2ca02c\",\"#2ca02c\",\"#2ca02c\",\"#2ca02c\",\"#2ca02c\",\"#2ca02c\",\"#2ca02c\",\"#2ca02c\",\"#2ca02c\",\"#2ca02c\",\"#9edae5\",\"#2ca02c\",\"#9edae5\",\"#9edae5\",\"#2ca02c\",\"#2ca02c\",\"#2ca02c\",\"#9edae5\",\"#2ca02c\",\"#9edae5\",\"#9edae5\",\"#9edae5\",\"#2ca02c\",\"#9edae5\",\"#9edae5\",\"#2ca02c\",\"#9edae5\",\"#2ca02c\",\"#9edae5\",\"#9edae5\",\"#9edae5\",\"#9edae5\",\"#9edae5\",\"#2ca02c\",\"#9edae5\",\"#2ca02c\",\"#9edae5\",\"#2ca02c\",\"#2ca02c\",\"#2ca02c\",\"#2ca02c\",\"#2ca02c\",\"#9edae5\",\"#9edae5\",\"#2ca02c\",\"#2ca02c\",\"#2ca02c\",\"#c5b0d5\",\"#9edae5\",\"#2ca02c\",\"#2ca02c\",\"#9edae5\",\"#9edae5\",\"#9edae5\",\"#2ca02c\",\"#2ca02c\",\"#9edae5\",\"#2ca02c\",\"#2ca02c\",\"#2ca02c\",\"#2ca02c\",\"#2ca02c\",\"#2ca02c\",\"#2ca02c\",\"#2ca02c\",\"#2ca02c\",\"#9edae5\",\"#9edae5\",\"#2ca02c\",\"#2ca02c\",\"#9edae5\",\"#9edae5\",\"#2ca02c\",\"#2ca02c\",\"#9edae5\",\"#2ca02c\",\"#2ca02c\",\"#2ca02c\",\"#2ca02c\",\"#2ca02c\",\"#2ca02c\",\"#2ca02c\",\"#2ca02c\",\"#9edae5\",\"#2ca02c\",\"#9edae5\",\"#2ca02c\",\"#9edae5\",\"#9edae5\",\"#9edae5\",\"#2ca02c\",\"#2ca02c\",\"#2ca02c\",\"#2ca02c\",\"#9edae5\",\"#2ca02c\",\"#2ca02c\",\"#2ca02c\",\"#9edae5\",\"#2ca02c\",\"#2ca02c\",\"#9edae5\",\"#2ca02c\",\"#2ca02c\",\"#9edae5\",\"#2ca02c\",\"#2ca02c\",\"#9edae5\",\"#9edae5\",\"#2ca02c\",\"#c5b0d5\",\"#c5b0d5\",\"#ff7f0e\",\"#ff7f0e\",\"#c5b0d5\",\"#c5b0d5\",\"#ff7f0e\",\"#ff7f0e\",\"#ff7f0e\",\"#ff7f0e\",\"#c5b0d5\",\"#c5b0d5\",\"#ff7f0e\",\"#c5b0d5\",\"#c5b0d5\",\"#ff7f0e\",\"#c5b0d5\",\"#ff7f0e\",\"#c5b0d5\",\"#ff7f0e\",\"#ff7f0e\",\"#c5b0d5\",\"#ff7f0e\",\"#c5b0d5\",\"#ff7f0e\",\"#ff7f0e\",\"#c5b0d5\",\"#ff7f0e\",\"#ff7f0e\",\"#ff7f0e\",\"#ff7f0e\",\"#ff7f0e\",\"#ff7f0e\",\"#ff7f0e\",\"#c5b0d5\",\"#c5b0d5\",\"#ff7f0e\",\"#ff7f0e\",\"#ff7f0e\",\"#ff7f0e\",\"#c5b0d5\",\"#c5b0d5\",\"#ff7f0e\",\"#ff7f0e\",\"#ff7f0e\",\"#ff7f0e\",\"#c5b0d5\",\"#c5b0d5\",\"#ff7f0e\",\"#c5b0d5\",\"#ff7f0e\",\"#c5b0d5\",\"#ff7f0e\",\"#ff7f0e\",\"#c5b0d5\",\"#c5b0d5\",\"#ff7f0e\",\"#c5b0d5\",\"#ff7f0e\",\"#c5b0d5\",\"#ff7f0e\",\"#ff7f0e\",\"#c5b0d5\",\"#ff7f0e\",\"#ff7f0e\",\"#ff7f0e\",\"#ff7f0e\",\"#c5b0d5\",\"#c5b0d5\",\"#ff7f0e\",\"#c5b0d5\",\"#c5b0d5\",\"#c5b0d5\",\"#c5b0d5\",\"#ff7f0e\",\"#c5b0d5\",\"#ff7f0e\",\"#ff7f0e\",\"#ff7f0e\",\"#c5b0d5\",\"#ff7f0e\",\"#c5b0d5\",\"#ff7f0e\",\"#c5b0d5\",\"#ff7f0e\",\"#c5b0d5\",\"#c5b0d5\",\"#ff7f0e\",\"#c5b0d5\",\"#c5b0d5\",\"#c5b0d5\",\"#c5b0d5\",\"#ff7f0e\",\"#c5b0d5\",\"#ff7f0e\",\"#c5b0d5\",\"#c5b0d5\",\"#c5b0d5\",\"#c5b0d5\",\"#ff7f0e\",\"#dbdb8d\",\"#c49c94\",\"#c49c94\",\"#dbdb8d\",\"#c49c94\",\"#c49c94\",\"#dbdb8d\",\"#c49c94\",\"#c49c94\",\"#dbdb8d\",\"#dbdb8d\",\"#dbdb8d\",\"#dbdb8d\",\"#dbdb8d\",\"#dbdb8d\",\"#dbdb8d\",\"#c49c94\",\"#dbdb8d\",\"#dbdb8d\",\"#dbdb8d\",\"#dbdb8d\",\"#dbdb8d\",\"#dbdb8d\",\"#c49c94\",\"#dbdb8d\",\"#dbdb8d\",\"#c49c94\",\"#c49c94\",\"#c49c94\",\"#c49c94\",\"#c49c94\",\"#dbdb8d\",\"#c49c94\",\"#c49c94\",\"#dbdb8d\",\"#dbdb8d\",\"#dbdb8d\",\"#dbdb8d\",\"#c49c94\",\"#dbdb8d\",\"#dbdb8d\",\"#dbdb8d\",\"#dbdb8d\",\"#dbdb8d\",\"#c49c94\",\"#c49c94\",\"#dbdb8d\",\"#dbdb8d\",\"#c49c94\",\"#dbdb8d\",\"#c49c94\",\"#dbdb8d\",\"#dbdb8d\",\"#c49c94\",\"#c49c94\",\"#dbdb8d\",\"#c49c94\",\"#dbdb8d\",\"#dbdb8d\",\"#dbdb8d\",\"#c49c94\",\"#c49c94\",\"#dbdb8d\",\"#c49c94\",\"#dbdb8d\",\"#c49c94\",\"#dbdb8d\",\"#dbdb8d\",\"#dbdb8d\",\"#dbdb8d\",\"#dbdb8d\",\"#dbdb8d\",\"#c49c94\",\"#dbdb8d\",\"#c49c94\",\"#c49c94\",\"#c49c94\",\"#c49c94\",\"#c49c94\",\"#dbdb8d\",\"#dbdb8d\",\"#dbdb8d\",\"#c49c94\",\"#dbdb8d\",\"#dbdb8d\",\"#dbdb8d\",\"#c49c94\",\"#dbdb8d\",\"#dbdb8d\",\"#c49c94\",\"#dbdb8d\",\"#dbdb8d\",\"#dbdb8d\",\"#dbdb8d\",\"#c49c94\",\"#dbdb8d\",\"#c49c94\",\"#dbdb8d\",\"#dbdb8d\",\"#c49c94\",\"#c5b0d5\",\"#c5b0d5\",\"#ff7f0e\",\"#c5b0d5\",\"#c5b0d5\",\"#c5b0d5\",\"#ff7f0e\",\"#c5b0d5\",\"#c5b0d5\",\"#c5b0d5\",\"#c5b0d5\",\"#ff7f0e\",\"#ff7f0e\",\"#ff7f0e\",\"#ff7f0e\",\"#c5b0d5\",\"#c5b0d5\",\"#ff7f0e\",\"#c5b0d5\",\"#c5b0d5\",\"#c5b0d5\",\"#ff7f0e\",\"#2ca02c\",\"#ff7f0e\",\"#c5b0d5\",\"#ff7f0e\",\"#c5b0d5\",\"#c5b0d5\",\"#ff7f0e\",\"#c5b0d5\",\"#ff7f0e\",\"#c5b0d5\",\"#ff7f0e\",\"#c5b0d5\",\"#c5b0d5\",\"#c5b0d5\",\"#c5b0d5\",\"#c5b0d5\",\"#c5b0d5\",\"#c5b0d5\",\"#ff7f0e\",\"#c5b0d5\",\"#c5b0d5\",\"#c5b0d5\",\"#c5b0d5\",\"#c5b0d5\",\"#c5b0d5\",\"#ff7f0e\",\"#c5b0d5\",\"#c5b0d5\",\"#c5b0d5\",\"#2ca02c\",\"#ff7f0e\",\"#c5b0d5\",\"#ff7f0e\",\"#ff7f0e\",\"#ff7f0e\",\"#ff7f0e\",\"#c5b0d5\",\"#c5b0d5\",\"#c5b0d5\",\"#c5b0d5\",\"#c5b0d5\",\"#c5b0d5\",\"#c5b0d5\",\"#c5b0d5\",\"#c5b0d5\",\"#c5b0d5\",\"#c5b0d5\",\"#ff7f0e\",\"#ff7f0e\",\"#c5b0d5\",\"#c5b0d5\",\"#c5b0d5\",\"#c5b0d5\",\"#ff7f0e\",\"#ff7f0e\",\"#c5b0d5\",\"#c5b0d5\",\"#c5b0d5\",\"#ff7f0e\",\"#ff7f0e\",\"#c5b0d5\",\"#c5b0d5\",\"#c5b0d5\",\"#c5b0d5\",\"#c5b0d5\",\"#ff7f0e\",\"#c5b0d5\",\"#c5b0d5\",\"#c5b0d5\",\"#ff7f0e\",\"#c5b0d5\",\"#ff7f0e\",\"#c5b0d5\",\"#c5b0d5\",\"#ff7f0e\",\"#c5b0d5\",\"#c5b0d5\",\"#c5b0d5\",\"#dbdb8d\",\"#dbdb8d\",\"#c49c94\",\"#c49c94\",\"#c49c94\",\"#c49c94\",\"#c49c94\",\"#c49c94\",\"#dbdb8d\",\"#c49c94\",\"#c49c94\",\"#c49c94\",\"#c49c94\",\"#c49c94\",\"#dbdb8d\",\"#dbdb8d\",\"#c49c94\",\"#c49c94\",\"#c49c94\",\"#dbdb8d\",\"#dbdb8d\",\"#dbdb8d\",\"#c49c94\",\"#c49c94\",\"#dbdb8d\",\"#c49c94\",\"#dbdb8d\",\"#c49c94\",\"#c49c94\",\"#c49c94\",\"#c49c94\",\"#c49c94\",\"#c49c94\",\"#dbdb8d\",\"#c49c94\",\"#c49c94\",\"#c49c94\",\"#c49c94\",\"#dbdb8d\",\"#dbdb8d\",\"#c49c94\",\"#dbdb8d\",\"#c49c94\",\"#dbdb8d\",\"#c49c94\",\"#c49c94\",\"#dbdb8d\",\"#c49c94\",\"#dbdb8d\",\"#c49c94\",\"#c49c94\",\"#dbdb8d\",\"#dbdb8d\",\"#dbdb8d\",\"#c49c94\",\"#c49c94\",\"#c49c94\",\"#c49c94\",\"#c49c94\",\"#c49c94\",\"#c49c94\",\"#dbdb8d\",\"#dbdb8d\",\"#dbdb8d\",\"#c49c94\",\"#dbdb8d\",\"#c49c94\",\"#c49c94\",\"#c49c94\",\"#c49c94\",\"#c49c94\",\"#dbdb8d\",\"#dbdb8d\",\"#dbdb8d\",\"#dbdb8d\",\"#c49c94\",\"#c49c94\",\"#dbdb8d\",\"#c49c94\",\"#dbdb8d\",\"#c49c94\",\"#c49c94\",\"#c49c94\",\"#c49c94\",\"#dbdb8d\",\"#c49c94\",\"#dbdb8d\",\"#c49c94\",\"#c49c94\",\"#c49c94\",\"#c49c94\",\"#c49c94\",\"#c49c94\",\"#c49c94\",\"#dbdb8d\",\"#c49c94\",\"#c49c94\",\"#c49c94\",\"#dbdb8d\",\"#dbdb8d\"],\"x\":[-3.240229830817789,-4.488346879692877,-3.8445573568026776,0.43178200393867433,-9.566251137447612,-0.16097110542523052,-5.217687974515516,-4.758507435606371,-3.6684689301917315,-10.623839888734398,-7.577518753153871,-1.9742801620021833,-4.547659476052054,-4.877657386117706,-7.013326707991055,-3.189837211204038,-7.3958956701399,-3.4144819040989174,-4.063805949598058,-9.156732116252265,-7.627215283353343,-0.8305531566871076,-6.457392281065089,-4.086282228470997,-6.1748313653033335,-6.147785236549557,-4.019388986264757,-6.313231742120557,-5.308962637747352,-8.284127846164283,-3.4728338447577194,-0.3908960080493432,-5.470886083912225,-2.652516096658821,-7.157900992406978,-8.20212226115105,-4.757939005541762,-6.158925531660436,-0.33481116660044496,-0.7301331606330247,0.35313676358451007,1.033351692139824,-6.280817357550074,-4.476551359412537,-2.2213658985694167,-6.244741158157417,-7.233109898690605,-4.018578940512739,0.6436428560904014,-1.978583310490555,-6.498834356327746,-1.5097533344049197,-2.76651520104675,-5.475866496300997,-5.488601870000172,-10.474323743287291,-0.745953248691274,-5.781580294810799,-0.16245885212090974,-3.031802209077282,-2.180590397828028,-9.83202498594909,-2.3511813544096793,-1.3104524398844728,-1.497821842438098,-3.265787092435623,-4.011179978465472,-7.656586951451494,-2.5217692882136338,-3.654633815872236,-5.185830810407759,-5.271794259103126,-8.043154521808043,-3.350408086106251,-7.575772393944664,-2.1843995607740565,0.3374866180543727,-4.7598845673029215,-2.178286041832933,-2.283495569533842,-5.507504635528385,-5.501723058195675,-7.809873527584934,-0.10435681089416221,-4.067259464307822,-3.3826502145499275,-9.135679524084958,-8.467094949681494,-8.547678641329483,-4.230564427817566,-1.851322746495724,-8.248229850493516,-1.4986288020174598,-3.3255255640942645,-2.4560449631808257,-1.9694835197875262,-2.628557965831392,-3.2073053179379563,-2.161823809723497,0.3796095884879316,-13.47500602594504,-12.085616875817722,-12.032228766476418,-18.91541412033169,0.4761167633441341,2.6957777210061695,1.8271045322081096,-18.825423167906354,2.0652943895937454,-20.13440797207339,-19.957889534735664,-17.23636454878072,-1.568884906815832,-19.24272717554758,-19.051022266834263,-6.358597602023926,-19.02714798442614,4.732561384163466,-17.83994029648277,-19.06515974333906,-18.32110581216314,-19.698124987195662,-16.821585788745388,5.622385624826536,-18.242413269642476,5.845554996373957,-14.589970480572596,2.734763508996168,4.848373207110558,-4.639082680844101,7.579116352667447,6.6496042663539825,-16.987871045018604,-18.192004058981297,6.987978576730205,8.156829955306208,-7.010537691952633,9.685954490867266,-18.233630525613847,5.562365105977224,-0.9177991232394009,-19.577404434899243,-12.952262128601225,-19.24731409947316,1.5308136035505824,-2.0966966775324485,-13.917525639456615,5.456206178399976,6.318639024095574,3.805296922684099,12.925102667571608,-12.957216411856914,3.281382264335901,-12.91261483567739,-19.976594881270994,6.390500734745597,-18.335432216954636,-13.5026019200923,3.4252322151421413,5.256029341359369,-17.954487634981238,-14.803426687191163,0.39233272733827707,2.5965038072206674,-16.27680905705872,5.495550612228496,-12.70211465401519,-2.106539021641401,1.271234894293732,-4.366510798898372,5.395125519206577,3.265306941672864,4.520936546485533,-13.33816220402746,6.087049601882248,-17.76744147579325,6.197503542539756,-17.575035161631646,-16.05367025089849,-19.881696160505058,0.5892793251292172,-20.24503299777942,-1.988993393624856,4.76248561996671,-15.691531081581656,-1.3807937113818372,-4.662883806479963,4.426484043821556,-20.054980455478614,-4.368366548921052,6.310922202935985,-19.766559751620115,4.43267969005312,-5.72119788400937,-19.124615584178297,-19.55868412428551,3.9427574780439123,-19.064142581489374,-19.255244440956627,-12.360886425841095,-3.535062475321356,-1.794381518982791,-20.250416313611076,-17.09715165865596,-7.197703058449365,-4.383619015976582,-17.603670218723792,-10.628501584136648,-17.66607705591179,-14.71712809171634,-0.8828627587539483,-10.750753565619405,-14.441273348324732,-6.177996794102497,-10.678501399064729,-17.255101164446874,-10.411864880561104,-11.66818684163654,-2.7608033257555054,-17.48776548954653,-14.385901069292586,-1.3801726062837578,-18.57223102880508,-5.827159024191889,-18.08008860227783,-12.612325626824873,-7.264482793737759,-18.295680611687327,-19.70810098290338,-15.897746472922062,-13.999816704685525,-10.450201686496138,-18.670115198642073,-11.809304575917887,-11.281399942215346,-4.134920620925194,-17.523356254659053,-12.57964527285757,-9.651022939982056,-16.464685432835147,-6.355717803656211,-11.777971511006912,-16.577720417178906,-14.058962465002885,-18.22602670258708,-19.553921277169113,-11.115238700858646,-5.4038793605282684,-13.870956429985277,-1.419783851034351,-17.707627558386378,-10.522558815477547,-15.541860983678058,-17.574225094724927,-2.1863946166477355,-0.05830915174446005,-12.274294499178422,-6.340612777085387,-16.276876283131212,-4.628854684326256,-13.423245881512534,-17.56660083874662,-0.31734700676908956,-20.529386464650443,-15.072839266095992,-13.63273943662171,-17.332606372702106,-5.867417411578862,-6.657445339877671,-11.140802876188765,-9.980286051005418,-10.165738616546214,-4.682410589241902,-12.503775633062046,-15.844071804682326,-13.104524535274098,-13.640238443283604,-18.756299588109318,-12.114287932412607,-0.25416614225116674,-17.771425420348052,-7.414373342136365,-16.78915359537302,-9.381306620780261,-16.827961249166954,0.28845896766567436,-4.118131842512839,-16.68029879095626,-4.224972239122444,-4.666575796554413,-11.340687885304792,-11.89287836209642,-15.997783107537543,-1.1077895690904358,-15.864482864622186,-1.2814045754809151,-2.700050837754588,-9.47969655061329,-5.499596144172631,-17.9797560848182,24.579299538573878,9.89581269838854,13.067061447295131,22.39889336946057,9.642341035460074,10.136124575567033,20.04026405937265,15.302451578633036,17.35107998485522,20.755864069270686,23.74121617368911,18.28067997578793,16.946111694282877,22.13376510086099,18.109926450380833,24.05602493599383,11.397977178680959,24.14793735345921,23.140689747381344,15.135651025960271,23.3487905537924,17.564592961705745,22.514583606026296,10.72469624227975,23.833347300029626,18.380883821837756,10.518966212900011,10.518854309792518,9.793073536458145,19.47257523990231,15.78490069399655,22.280248136789698,14.146903713124727,10.142420336963266,22.555007558513026,14.841264556947673,23.899741729508666,20.013396071220086,10.814301467269814,15.71422386724025,21.013298400440362,19.92640117851597,22.150739399138327,22.659368446124237,17.39714310181895,16.753120202901446,22.613362627436587,14.634760734458528,11.374586377686537,22.864002635058394,10.768848663866061,21.967671085929936,22.90740364486341,14.128916237520198,16.75326077696283,18.767391196691445,9.020954558469281,20.758690078066742,21.667976680142207,16.494626473682903,15.225175145344112,13.282569844136027,21.514968888715256,11.270931501125277,15.207442075231777,8.831064392350008,16.89348463010183,19.39524550632553,16.378698034028957,23.797578867002652,15.565427872180464,23.56913055401536,9.247417428221702,19.83146631360481,11.673055863827432,7.679682191742258,15.931777447303146,11.644312297084202,17.31715432868969,23.46641936260865,23.22057502098932,16.271271327050908,9.769601684362268,17.280848920431758,21.49539523507666,23.28189814246557,10.828433919423611,20.563450171045076,24.519864492313296,11.832326924210848,22.479121306116056,19.291474799113693,22.1003037467874,22.384373486776422,15.776975207509262,20.904850171865945,12.265085786192884,23.03893633561977,20.585395039062313,12.429296297255418,-3.7048503590938306,-2.434204407741568,-15.625050739418825,-10.854851389594243,-1.5732470370766793,-10.008394765056607,-19.36462210841971,-10.049512875970265,-3.8587732064118963,-10.62259932810643,-0.4004737461362208,-15.307723163133291,-16.841672784653344,-20.873294739100956,-14.609238481025042,-8.889107491163157,-9.032960525555957,-16.307545159073786,-9.66919237277041,-4.148527011421739,-7.649428950099407,-19.070696680312324,1.5442544735074928,-17.166389603388684,-12.970916974537728,-16.572895223396443,-8.059101376344097,-5.8345993186879035,-10.659002316441345,-3.36467892087516,-13.751549943505417,-2.4588122967206836,-13.515178807987013,-11.859786674997617,-2.9784893473831957,-6.561518727962704,-6.369490581422856,-2.535837931345694,-7.813583767772624,-4.741262925921189,-13.669221508605688,-4.596325949831803,-4.336552908639296,-6.66825084983489,-6.474847544604831,-10.44659717249637,-1.0328523439938926,-15.636605642254862,-15.444966990109851,-9.12924694752484,-8.366945924026233,-1.6784173151988935,-20.338036822694367,-2.7346097024313147,-17.65818560969084,-19.0882016425322,-14.211760509533592,-13.697833941551702,-6.219471107917928,-8.832543536005268,-0.3113918766742858,-7.356875539769872,-2.44606597124398,-10.904297032659183,-5.311309702633592,-2.4234014866555884,-8.553064844079628,-5.238994056137415,-9.401929497993416,-20.94671671528836,-13.35736833424212,-0.839594307363422,-12.52079899551681,-5.5666307168285245,-3.401208985372699,-18.908259917373528,-19.00067738763618,-3.86072350352603,-12.344472830149169,-2.6547101148017997,-18.620795241713623,-12.338388591827275,-2.429317229869034,-5.810526331387785,-8.447517418405106,-5.731497240451161,-13.06484556033623,-13.317756538763023,-9.458438997267947,-11.346610927198236,-1.6457181526460618,-14.834502029793486,-7.520505034800812,-16.063072622620336,-4.640630266054558,-8.69364791986697,-12.850389121320871,-10.20633727275623,-4.020343155060389,-8.969885686597816,27.795105873381324,20.184425693062657,13.433182166150553,9.396055756616654,13.463210853729382,14.048237772352032,10.707747223501686,17.731510645405308,17.513661874062695,10.820441172600328,14.135550791883578,8.813035079291339,16.323844132039053,9.66234374031599,18.74568132246401,20.669829063368326,13.172078722537051,9.455222733970762,9.111721945069755,33.90367012945262,20.27983729823343,21.143063081186714,14.5188583619371,8.507320842940464,17.819062053236674,7.578856556153529,18.977956778695596,10.962039835359088,12.976390841062843,12.513685567560204,8.698282859428607,10.882108348110302,14.388102291442909,15.135897723161646,10.532513212792585,13.823072277560373,6.951290572722449,14.460686305566924,13.942174687239868,18.52168741411706,7.42764747252275,17.593030883352583,17.18930926567054,18.168395625945916,8.843625264378154,13.075150354374633,21.23507625024256,9.5692163842247,18.752144607395287,18.51696789682073,14.05954294804494,17.519288807877523,22.33077182884177,15.543382377044114,13.246994015510394,11.696734004722087,12.991266425792134,5.793312949903049,13.678120576912907,14.988376287316473,6.6083188789376734,17.780789700036454,19.700130586382105,18.262629999162105,17.403560142914888,17.47696830812933,14.067337131814421,19.389613294636515,8.465926133553294,16.275610686765045,15.35241356399255,14.809276217682221,17.1189504484004,21.12966532359278,18.083244390804083,11.223110334261253,14.727906463429965,16.148425184010698,11.256400459653198,19.62800958222306,12.769370991881626,15.165068365872273,13.863466470688625,15.69191335699515,17.4005752155172,12.704281024054017,18.359379267621332,6.231641585755635,9.641766382700066,17.046877001807875,18.55828827817284,12.484687196256615,15.94059342879037,9.4928854950163,18.62287736197578,9.218928466386238,15.263192243346897,11.369374579897322,21.13676717806835,18.457404747254568],\"y\":[-7.176224452673044,-12.715697033176978,-9.324800727788446,-5.510564575247144,-10.578609667948411,-9.824253130214975,-8.464270338904546,-12.7083737962047,-11.590958720755514,-9.465236489412359,-11.45279321465895,-0.8895550366969018,-5.755882174972548,-10.25829871445583,-10.92937831974292,-1.3805668882256854,-8.99950761421289,-2.3060947530290306,-7.271202711065845,-6.471741404850897,-12.098561996286362,-9.555733519393492,-4.199503316402701,-4.1224183288309675,-2.103806732593627,-11.454782455866248,-2.279605625841283,-6.873584689949117,-3.8853684789998724,-7.7358570666086655,-3.292372671549741,-4.830405661439677,-5.50666433635914,-12.572450514474186,-6.246283463847671,-9.882972384967596,-2.9627651316274792,-9.017182135744203,-10.055920327879747,-7.182067960950973,-9.498846833210855,-5.959410780111106,-6.07894849837726,-13.976391667542782,-0.6538251814782798,-2.856706263321285,-6.596108262449038,-5.406651446904583,-4.848121314016084,-6.3647776643285905,-8.694395194521963,-7.491607816764187,-8.034630211927965,-10.442301200689494,-4.963534538918648,-9.63522438498516,-1.9353022714595143,-6.750076297957701,-8.300656543140832,-1.8399612451828835,-4.686143312090675,-9.356440258225136,-3.7789475068214404,-4.692363853022318,-11.073213238099385,-5.114071345832126,-4.671176925000955,-10.281851062231949,-4.2774715009585655,-8.118792326826634,-7.698495220398422,-4.151005194981579,-5.277388619239304,-9.995586218577435,-5.897449199756661,-5.910467911164344,-11.150204767431779,-10.351237906140694,-7.782283580777493,-9.101419551089807,-5.612677520630233,-12.964157064648209,-10.858820313711197,-9.196539906598101,-12.986981465089588,-4.277255489935423,-7.42971273415198,-7.450116290054124,-12.760474352676884,-10.885265583907488,-9.580687436288787,-4.2995800448942445,-0.582049801371339,-8.910724106201911,-11.578546208748559,-10.727138286851812,-12.51812213053562,-11.013309138995002,-11.53398135798382,-4.389524132807675,-6.074473756667473,-5.5575915624560785,-9.617320616311625,-8.681509865795832,-4.016011169352469,0.32308778393729687,-3.7681147993856596,-4.9855500706530895,-0.1613544193467773,-5.387706727396686,-6.534561168230456,-10.740612233376424,-5.9351707226059505,-8.485385598878032,-5.075669311372209,-8.728441865214725,-9.874235591684585,1.0602897003366276,-9.735421827132937,-4.928300528586281,-9.0497005787966,-3.873474195379541,-9.46511464163393,4.536334371934191,-9.080180270644213,5.494635135837529,-7.429845139108202,-3.0044806654989342,1.3678960975547643,-0.614416935188349,3.964785198630396,2.252054194769545,-10.004991626313588,-8.495519478237354,4.192010668652281,3.890269306698249,-2.072513607833647,9.997678029223088,-7.4277181890719435,6.179167117454168,-2.034577795839874,-3.7853189613123157,-6.504410455688599,-7.192385114091599,-7.485085788813952,-4.27275977563391,-6.941394420065514,0.8035127681215744,7.643735839144027,0.5555579601097838,8.619346822968012,-5.637166213898218,-2.1362016865743483,-5.7385744771179645,-3.3080059386476046,6.504888593663354,-8.192899412584412,-8.876161662807643,-1.8141053856959013,3.637063915737858,-6.527268711610573,-9.694499897291108,-8.360136009121586,-3.3922860512606876,-8.681249921968575,4.647413198940383,-5.516499869672066,-6.336125659607398,-1.9572427122970653,0.001563131618284419,3.5748698614352885,8.83546184068732,2.6812685656296735,-6.568715785184891,3.6497471641979877,-9.24143809710608,5.581102109368353,-4.093277298296228,-8.912491992949887,-6.944998624885875,-4.520719777143249,-3.1277119180716078,-13.514627859200296,2.171497586505529,-8.635447730336203,-3.8473151269040176,-4.872169604542739,1.1292025854702503,-6.201394033061034,0.3336751688215722,5.29447976859695,-7.944270964575795,2.2616818277468553,10.899186687779542,-5.561904947564668,-3.259077541067899,1.1558511615533409,-7.7323539148935465,-5.840207756140885,-5.869592656379723,19.324436956139174,17.865570298024522,8.17612305596613,7.604537275025028,17.484753490274983,16.95785902684044,6.96009543642679,9.673799407472199,9.112183385345013,7.41191700165488,17.12445053396441,14.757273675233863,14.160523453135399,19.44076225120077,12.500858331819684,6.58000921029651,12.527350582274247,9.76297619349997,17.06033358777922,8.470892511439725,8.129986633608768,14.434571147542535,7.6294623584035595,19.57897689312342,8.727440496797938,11.345563465581645,18.326765442449634,10.397368464465394,9.086712483525346,8.164063574790237,13.111080267411616,9.738773271277559,9.241591911323331,9.527242215223099,18.59174192077256,18.60432345291514,8.268050700040629,11.160260554102063,10.0841133858834,15.769082252202047,12.956446891840098,22.1811184437523,6.808579510717689,9.903780437454607,9.521221381428296,10.150418099994342,12.961012414983482,12.655966140146504,10.288752077620849,19.68996480549429,12.518877137091915,19.125217702591993,13.39066008749448,12.024656881924185,20.50077867456787,7.758810858819251,9.851000676598819,14.561884366583408,6.714636799376543,18.1444077453228,12.867412059949265,14.904151889473242,16.999330477858535,8.753747983929635,12.0080111446552,15.517615667729807,7.467202017665086,13.38965759011711,14.544513869509057,11.372595608100736,19.07053894131768,20.603164664302128,18.807529798703083,19.337755051097854,7.395308857919422,17.754581325822667,7.741901603070535,8.487055393235634,12.621985632332494,16.31331522830142,13.891136534028883,13.18769355345355,13.628526704014172,11.988913958222485,10.400450654374477,17.26846959992614,14.942036159095593,12.319250218853968,13.400677192317131,17.636406207719638,18.80861735852394,14.766969787163818,14.981689014160677,17.797479868208598,7.969635569858,16.848700811400015,19.722617845203715,22.184974652645362,14.705375374724252,12.732632573972657,-4.0378136727942815,-17.68158789952725,-18.29533550420384,-9.34272418858627,-20.659076375088862,-16.794713521189255,-9.755215907209239,-15.673745129977812,-16.82309560903426,-9.149244467613896,-4.149339154957062,-2.76398246849659,-3.653763570837448,-6.32225436937199,-2.536442979259426,-4.409324412590069,-18.134227331776096,-9.570458123485942,-5.6970340826634125,-3.8180662851749725,-8.60524198126457,-2.6985106024256345,-3.0210456456914896,-19.09223980838489,-8.24376280951805,-3.5896757296559256,-11.703178539468231,-10.882880263402845,-17.016216212522522,-16.502540399380035,-19.754039906480873,-6.311135616919827,-17.6750625434204,-16.674630453118347,-3.920292011524069,-10.999519620488458,-2.1687720550927496,-2.62324522558156,-12.62702409704096,-9.693042324673101,-9.680798957648797,-1.9981346418547081,-3.505984941845153,-9.794330092642832,-14.998876910274086,-14.567589133375789,-3.6762125749010783,-4.026767507691391,-17.274454156298905,-8.518808243647872,-12.132148688580541,-9.302102448531222,-4.575578806793202,-20.366337985950572,-13.339685942618388,-1.628777875343254,-17.520100349413188,-3.0533356552400797,-2.071959035870016,-5.303228739904611,-17.601852499344965,-21.760039209357146,-8.408233340488973,-14.19274094316179,-6.181871061894806,-16.768312482371957,-4.074893045219216,-3.101652762354526,-3.099607149670696,-5.995268028489822,-5.436416221805061,-4.634368290204153,-20.426878218036133,-2.939214729740985,-18.984373849679876,-17.813532369668525,-16.289554358262038,-15.53913317563518,-18.528966553456428,-2.139712630226215,-5.558211180789874,-3.7836019075115788,-13.885009980242733,-8.516614417818905,-8.321934988911524,-2.660600279579066,-16.31737197712355,-1.4618814271393412,-3.4482740262033316,-21.38655984481727,-2.117456141394912,-9.611142381623393,-2.960959424897136,-7.992606704308178,-21.392048697255703,-8.741607121899097,-14.49586426501072,-5.828662543544674,-10.826292823332874,-13.935097747615393,20.43528515183413,15.063348474792882,10.951010635007952,22.104724422597133,19.178872746855397,17.671281421669406,14.992159411783955,21.67858129534822,16.000113846581915,22.31383861784582,24.52697727886881,9.431927759372364,15.81057381663066,11.053847549906425,14.746116233524647,13.280030577870843,16.774496735107785,14.15443591083701,18.022620243201704,12.06627685742106,19.894967163086818,6.721895452093948,10.846429666840393,14.718793405207999,13.791514866856653,13.638241636748292,12.244944417937596,22.35761274672527,10.851167260332005,15.397502473963785,11.76699833628664,21.237027172467037,17.745550949751447,13.431618442279795,13.557684789521375,22.858795970471416,20.58005764830199,15.878248425168858,16.54409141982609,23.274849485947684,9.474741106997474,22.101791378274665,15.96913535511001,19.25071288275907,22.74067762879334,16.209206526975915,17.116690603792488,9.675134077178038,17.593262500336632,20.6353913470281,19.061078944618473,4.644961729335082,9.830304637663117,21.70771185650517,13.496955265747197,15.673332899808255,10.68308671006592,6.6841999262386675,22.125766427024267,23.185177387987277,17.91221112756859,12.392277078596969,13.9926141661891,22.512920839263256,23.22805057631967,14.04330198878765,18.455895744898562,16.904912998280423,16.243894089476704,6.898084442417337,7.479642464062468,18.162496986967806,14.327111812534328,13.32569962689456,22.083238995432367,15.734724649352657,9.481232624351879,13.443894354403156,16.501908339961876,21.389141050832965,13.181811674036556,12.309453457420766,19.05675748976822,15.196907025676719,17.630147076292516,20.473238200307236,18.865284194575153,13.811430588316545,22.249949062974874,16.36231496538024,22.617544813908818,8.858228535951232,21.594361157291765,13.23410121300881,23.464771994940975,15.515980188856961,15.76013641838998,21.118741832044392,19.22926749516877,17.889425537887803,-14.069285087271677,-10.742809133313717,-19.72700629499233,-20.6122781340174,-20.642251971503672,-12.753104434011004,-20.2062461400691,-15.043566559617306,-10.12205074554932,-20.72022217126244,-13.949535088024321,-15.947464519094364,-12.342401120503693,-14.467547888860166,-8.0666222658738,-6.644557751558049,-21.917593393272114,-18.525689057036587,-21.836155742166557,-10.672071352094864,-7.26869165785493,-12.793194113459382,-19.813176544204765,-22.222321290543544,-6.466324261265196,-19.485862288753463,-9.042166746843444,-15.015004323835234,-23.54361910602313,-19.250931355623635,-21.07564446115993,-21.806409510786988,-17.939802702745926,-11.348972231780143,-22.70307885440659,-13.395818265436976,-20.980714729063653,-21.110662382152444,-9.999021767768465,-12.661724799290416,-16.920125388066435,-11.312218998219853,-14.549526843463042,-6.069458539126089,-21.944266901935112,-23.501969931072548,-3.6932029828187423,-14.231140697109229,-5.250828566250526,-14.88364403887261,-23.364309465382405,-7.457468856334911,-5.463525690334541,-10.13300946320954,-15.907753780272655,-15.028384478971955,-18.614158504785348,-20.995749714473888,-20.86323450523464,-12.884204570957502,-19.652108699426286,-11.931132092648385,-12.248420026732608,-5.4993825877315885,-16.68798724052107,-13.718896603132006,-23.075494410922644,-16.23201657625874,-16.5450449382756,-17.374131582294545,-11.960723139815144,-10.33318512479703,-11.902453049474442,-12.858675103814663,-10.124739387266548,-22.928289861807016,-21.511220115334186,-7.045003243600524,-20.326813342449263,-12.74973820253973,-21.26055004652676,-12.668031106623495,-22.34487298367062,-18.01875159223353,-4.651738388594497,-13.987377975690928,-8.041460492522296,-20.214869843519995,-21.959753402195904,-20.036233552790133,-15.683254864760228,-20.941110571441087,-13.953499927436797,-19.687669972419236,-12.346839571388088,-22.446953229006965,-21.934533339849697,-20.52674885192405,-5.559200632079846,-4.767650454895795]}},\"id\":\"f331f86e-4c3e-4e86-ad9e-bb161690f59b\",\"type\":\"ColumnDataSource\"},{\"attributes\":{\"fill_color\":{\"field\":\"fill_color\"},\"line_color\":{\"field\":\"line_color\"},\"size\":{\"units\":\"screen\",\"value\":8},\"x\":{\"field\":\"x\"},\"y\":{\"field\":\"y\"}},\"id\":\"a69db802-eb12-4d9c-8740-65a1f796fb78\",\"type\":\"Circle\"}],\"root_ids\":[\"3e78c725-e9d9-4f38-9b7e-9aab7f25a025\"]},\"title\":\"Bokeh Application\",\"version\":\"0.12.2\"}};\n",
       "            var render_items = [{\"docid\":\"964d3a4a-e09b-42b2-b6e1-f68dfae60bdd\",\"elementid\":\"185388dd-d574-4e50-a24e-2695de135816\",\"modelid\":\"3e78c725-e9d9-4f38-9b7e-9aab7f25a025\"}];\n",
       "            \n",
       "            Bokeh.embed.embed_items(docs_json, render_items);\n",
       "        });\n",
       "      },\n",
       "      function(Bokeh) {\n",
       "      }\n",
       "    ];\n",
       "  \n",
       "    function run_inline_js() {\n",
       "      \n",
       "      if ((window.Bokeh !== undefined) || (force === \"1\")) {\n",
       "        for (var i = 0; i < inline_js.length; i++) {\n",
       "          inline_js[i](window.Bokeh);\n",
       "        }if (force === \"1\") {\n",
       "          display_loaded();\n",
       "        }} else if (Date.now() < window._bokeh_timeout) {\n",
       "        setTimeout(run_inline_js, 100);\n",
       "      } else if (!window._bokeh_failed_load) {\n",
       "        console.log(\"Bokeh: BokehJS failed to load within specified timeout.\");\n",
       "        window._bokeh_failed_load = true;\n",
       "      } else if (!force) {\n",
       "        var cell = $(\"#185388dd-d574-4e50-a24e-2695de135816\").parents('.cell').data().cell;\n",
       "        cell.output_area.append_execute_result(NB_LOAD_WARNING)\n",
       "      }\n",
       "  \n",
       "    }\n",
       "  \n",
       "    if (window._bokeh_is_loading === 0) {\n",
       "      console.log(\"Bokeh: BokehJS loaded, going straight to plotting\");\n",
       "      run_inline_js();\n",
       "    } else {\n",
       "      load_libs(js_urls, function() {\n",
       "        console.log(\"Bokeh: BokehJS plotting callback run at\", now());\n",
       "        run_inline_js();\n",
       "      });\n",
       "    }\n",
       "  }(this));\n",
       "</script>"
      ]
     },
     "metadata": {},
     "output_type": "display_data"
    }
   ],
   "source": [
    "source=bp.ColumnDataSource({\"classtype\": names,'color':color})\n",
    "\n",
    "hover = HoverTool(tooltips='''        \n",
    "<div>\n",
    "            <p style=\"font-size: 17px;color: @color;\">class: <span style=\"font-size: 17px; font-weight: bold;color: @color;\">@classtype</span></p>\n",
    "        \n",
    "</div>''')\n",
    "\n",
    "p = bp.figure(plot_width=900, plot_height=400, title=\"CHART Map by t-SNE\",\n",
    "       tools=[hover],\n",
    "       x_axis_type=None, y_axis_type=None, min_border=1)\n",
    "p.scatter(\n",
    "    x = xycoords[:,0],\n",
    "    y = xycoords[:,1],\n",
    "    size=8,\n",
    "    color= colormap[clusters],\n",
    "    source=source)\n",
    "bp.show(p)"
   ]
  },
  {
   "cell_type": "markdown",
   "metadata": {
    "collapsed": true
   },
   "source": [
    "If a point has the same color as the pop-up notation, then we correctly cluster that point. On the other hand, if a point has a different color than that of the pop-up notation, then we do not correctly identify the right cluster for that point.\n"
   ]
  }
 ],
 "metadata": {
  "anaconda-cloud": {},
  "kernelspec": {
   "display_name": "Python [default]",
   "language": "python",
   "name": "python2"
  },
  "language_info": {
   "codemirror_mode": {
    "name": "ipython",
    "version": 2
   },
   "file_extension": ".py",
   "mimetype": "text/x-python",
   "name": "python",
   "nbconvert_exporter": "python",
   "pygments_lexer": "ipython2",
   "version": "2.7.12"
  }
 },
 "nbformat": 4,
 "nbformat_minor": 1
}
